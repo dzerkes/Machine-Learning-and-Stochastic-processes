{
 "cells": [
  {
   "cell_type": "markdown",
   "metadata": {
    "colab_type": "text",
    "id": "B2H70g4D1dGg"
   },
   "source": [
    "<h2><b><i>Radial Basis Function Neural Network</i></b></h2>"
   ]
  },
  {
   "cell_type": "markdown",
   "metadata": {
    "colab_type": "text",
    "id": "FcUo-iIDz8xG"
   },
   "source": [
    "Σκοπός της παρούσας άσκησης είναι η κατηγοριοποίηση χειρόγραφων ψηφίων από το [MNIST dataset](https://www.wikiwand.com/en/MNIST_database) με τη χρήση νευρωνικών δικτύων [RBF](https://en.wikipedia.org/wiki/Radial_basis_function) (RBF). Για την κατηγοροποίηση των χειρόγραφων ψηφίων, χρησιμοποιείται ο αλγόριθμος K-means. Στη κλασική υλοποίηση του K-means όπου έχουμε το κέντρο του cluster και ταξινομομούμε κάθε σημείο με βάση την απόσταση από τα κέντρα. Σε αυτή την περίπτωση μπορεί να υπάρξουν σημεία που να μην μπορούν να αντιστοιχηθούν σε κάποιο cluster. Με τη χρήση του νευρωνικού δικτύου RBF κάθε σημείο ταξινομείται σε ομάδες με συγκεκριμένο κέντρο, γνωρίζοντας όμως τις αποστάσεις μεταξύ των κέντρων αλλά και με διαστήματα εμπιστοσύνης ως προς την πρόβλεψή μας. Με αυτό το τρόπο όλα τα σημεία αντιστοιχίζονται σε ένα cluster. Για να είναι ομαλή η ταξινόμηση των στοιχείων στα clusters μπορεί να χρησιμοποιηθεί μια εκθετική συνάρτηση υψωμένη στην αρνητική τιμή της απόστασης ως γινόμενο με έναν βαθμωτό συντελεστή beta, όπως φαίνεται παρακάτω:\n",
    "\n",
    "![alt text](https://miro.medium.com/max/145/1*MIay3aIlpT18yewOfnvTiQ.png)\n",
    "\n",
    "Στα πλαίσια του παραδείγματος για το β χρησιμοποιήθηκε ο παρακάτω τύπος\n",
    "\n",
    "![alt text](https://miro.medium.com/max/608/1*YEcI_P6orY917fQrzHQEjQ.png)\n",
    "\n",
    "Όπου k ο αριθμός των clusters και Dmax η μέγιστη ευκλείδια απόσταση μεταξύ των κέντρων. Το dataset που θα χρησιμοποιήσετε είναι διαθέσιμο [εδώ](https://drive.google.com/file/d/1WrVPB3C1vIApWNz5BaSuNmHFopf5htCg/view?usp=sharing) (θα πρέπει να το φορτώσετε στο Colab για να το τρέξετε). \n",
    "\n",
    "*Οι ερωτήσεις της άσκησης είναι μαζί με το αντίστοιχο βήμα στον κώδικα*\n"
   ]
  },
  {
   "cell_type": "markdown",
   "metadata": {
    "colab_type": "text",
    "id": "qTqNFzQsCYiP"
   },
   "source": [
    "**Βήμα 1ο**\n",
    "\n",
    "Τρέχετε τον κώδικα στον οποίο και ορίζονται οι συναρτήσεις που θα μας χρειαστούν. Στα πλαίσια της άσκησης χρησιμοποιούμε μία παραμετροποιημένη έκδοση της συνάρτησης K-Means, όπου μας επιστρέφει τα κέντρα των ομάδων (clusters) καθώς και την τυπική απόκλιση τους."
   ]
  },
  {
   "cell_type": "code",
   "execution_count": 10,
   "metadata": {
    "colab": {},
    "colab_type": "code",
    "id": "K10m9MxE98sp"
   },
   "outputs": [],
   "source": [
    "\"\"\"''\n",
    "\n",
    "Copyright © 2020 Tarlan Ahadli\n",
    "\n",
    "Permission is hereby granted, free of charge, to any person obtaining a\n",
    "copy of this software and associated documentation files (the “Software”),\n",
    "to deal in the Software without restriction, including without limitation\n",
    "the rights to use, copy, modify, merge, publish, distribute, sublicense,\n",
    "and/or sell copies of the Software, and to permit persons to whom the Software\n",
    "is furnished to do so, subject to the following conditions:\n",
    "\n",
    "The above copyright notice and this permission notice shall be included\n",
    "in all copies or substantial portions of the Software.\n",
    "\n",
    "THE SOFTWARE IS PROVIDED “AS IS”, WITHOUT WARRANTY OF ANY\n",
    "KIND, EXPRESS OR IMPLIED, INCLUDING BUT NOT LIMITED TO THE\n",
    "WARRANTIES OF MERCHANTABILITY, FITNESS FOR A PARTICULAR PURPOSE\n",
    "AND NONINFRINGEMENT. IN NO EVENT SHALL THE AUTHORS OR COPYRIGHT\n",
    "HOLDERS BE LIABLE FOR ANY CLAIM, DAMAGES OR OTHER LIABILITY,\n",
    "WHETHER IN AN ACTION OF CONTRACT, TORT OR OTHERWISE, ARISING\n",
    "FROM, OUT OF OR IN CONNECTION WITH THE SOFTWARE OR THE USE OR\n",
    "OTHER DEALINGS IN THE SOFTWARE.\n",
    "\n",
    "''\"\"\"\n",
    "\n",
    "import numpy as np\n",
    "\n",
    "\n",
    "def get_distance(x1, x2):\n",
    "    sum = 0\n",
    "    for i in range(len(x1)):\n",
    "        sum += (x1[i] - x2[i]) ** 2\n",
    "    return np.sqrt(sum)\n",
    "\n",
    "\n",
    "def kmeans(X, k, max_iters):\n",
    "    centroids = X[np.random.choice(range(len(X)), k, replace=False)]\n",
    "    # centroids = [np.random.uniform(size=len(X[0])) for i in range(k)]\n",
    "\n",
    "    converged = False\n",
    "    current_iter = 0\n",
    "\n",
    "    while (not converged) and (current_iter < max_iters):\n",
    "\n",
    "        cluster_list = [[] for i in range(len(centroids))]\n",
    "\n",
    "        for x in X:  # Go through each data point\n",
    "            distances_list = []\n",
    "            for c in centroids:\n",
    "                distances_list.append(get_distance(c, x))\n",
    "            cluster_list[int(np.argmin(distances_list))].append(x)\n",
    "\n",
    "        cluster_list = list((filter(None, cluster_list)))\n",
    "\n",
    "        prev_centroids = centroids.copy()\n",
    "\n",
    "        centroids = []\n",
    "\n",
    "        for j in range(len(cluster_list)):\n",
    "            centroids.append(np.mean(cluster_list[j], axis=0))\n",
    "\n",
    "        pattern = np.abs(np.sum(prev_centroids) - np.sum(centroids))\n",
    "\n",
    "        print('K-MEANS: ', int(pattern))\n",
    "\n",
    "        converged = (pattern == 0)\n",
    "\n",
    "        current_iter += 1\n",
    "\n",
    "    return np.array(centroids), [np.std(x) for x in cluster_list]\n"
   ]
  },
  {
   "cell_type": "markdown",
   "metadata": {
    "colab_type": "text",
    "id": "gvN-O5euDlVg"
   },
   "source": [
    "**Βήμα 2ο**\n",
    "\n",
    "Τρέχουμε την κλάση για το RBFNN\n",
    "\n",
    "---\n",
    "\n",
    "***Ερώτηση 1***\n",
    "\n",
    "Να αναφέρετε επιγραμματικά με ποιον τρόπο λειτουργεί ένα νευρωνικό δίκτυο RBF.\n",
    "\n",
    "***Απάντηση 1***\n",
    "\n",
    "\n",
    "Tα συγκεκριμένα νευρωνικά δίκτυα, αποτελούνται από 3 στρώματα, 1 στρώμα εισόδου, 1 κρυφό επίπεδο και τέλος το επίπεδο εξόδου. Ουσιαστικά, το σημείο που διαφέρει από το απλό νευρωνικό δίκτυο εμπρόσθιας τροφοδότησης, είναι πως στο κρυφό επίπεδο αναλαμβάνει να εφαρμόσει ένα non-linear transformation στα inputs και να περάσει αυτά τα μετασχηματισμένα διανύσματα στο στρώμα εξόδου, το οποίο γίινεται με linear transformation. Βασικό στοιχείο στα RBFN είναι οι αποστάσεις των δεδομένων εισόδου από τα διανύσματα κέντρων που λέγονται είτε prototypes είτε centroids, που προκύπτει από το στάδιο του training. O μετασχηματισμός των δεδομένων αποτελείται από την radial basis function η οποία κάνει mapping δεδομένα από ένα χώρο d διαστάσεων σε ένα χώρο m διαστάσεων συνήθως m <= d. Γενικά, όσο μεγαλύτερο m τόσο μεγαλύτερη πιθανότητα να υπάρχει γραμμική διαχωρισιμότητα σύμφωνα με το θεώρημα του  cover.\n",
    "\n",
    "Αν ονομάσουμε τη συνάρτηση rbf ως Φ : $R^{d} -> R^{m}$ Tότε σε κάθε κόμβο του κρυφού επιπέδου j αντιστοιχίζεται μια $Φ_{j}$, η οποία με τη σειρά της αντιστοιχίζεται και αυτή με έναν υποδοχέα ή αλλιώς receptor $t_{j}$, από τον οποίο υπολογίζονται οι αποστάσεις των δειγμάτων. H rbf Φ oυσιαστικά υπολογίζει την απόσταση κάθε δείγματος από αυτόν τον receptor, ο οποίος μπορεί να θεωρηθεί όπως είπαμε και προηγουμένως ως centroid ή prototype.\n",
    "\n",
    "H πιο σύνηθες rbf είναι η γκαουσιανή η οποία έχει τη μορφή που φαίνεται στην αρχή της εκφώνησης $Φ(r) = e^{-β{r^2}}$ όπου $r = ||x-t||$ που συμβολίζει την απόσταση του δείγματος από το prototype ή centroid, ενώ $β$ συμβολίζει τη διασπορά όπως το variance σε μια gaussian distribution.\n",
    "\n",
    "Eπομένως, από τα παραπάνω καταλαβαίνουμε πως το training των RBF ουσιαστικά απαιτεί την εκμάθηση των παραμέτρων t,β και των βαρών W. Αυτή η εκμάθηση μπορεί να γίνει με hybrid τρόπο. Tέλος παρουσιάζουμε μια εικόνα ενός RBF για να δείξουμε και γραφικά, ότι περιγράφηκε ως τώρα.\n",
    "\n",
    "![alt text](\n",
    "https://www.researchgate.net/publication/276915084/figure/fig3/AS:669044441096210@1536524033799/Architecture-of-RBF-network.png)\n",
    "\n",
    "***Ερώτηση 2***\n",
    "\n",
    "Στα πλαίσια του παραδείγματος, για κάθε αριθμό (κλάση) έχουμε μία μόνο ομάδα. Τι θα συνέβαινε αν είχαμε παραπάνω από μία ομάδες που θα αντιστοιχούσαν σε μία κλάση; Πώς λύνεται αυτό μέσω του RBF;\n",
    "\n",
    "**Απάντηση 2**\n",
    "\n",
    "Εφόσον ανά κλάση έχουμε μια μόνο ομάδα τότε απλά θα μπορούσαμε να δούμε τις τιμές των rbf για κάθε δείγμα, και η ομάδα με την μικρότερη απόσταση θα μας δώσει την κλάση που ανήκει το συγκεκριμένο δείγμα. Από την άλλη, αν είχαμε παραπάνω ομάδες για κάθε κλάση, τότε θα χρησιμοποιούσαμε και το 3ο επίπεδο, αυτό της εξόδου, για να κάνουμε και τους επιπλέον υπολογισμούς και να αξιοποιηθούν και οι γραμμικοί μετασχηματισμοί του output layer($Σw_jΦ_j(x)$ σύμφωνα με το παραπάνω σχήμα).\n",
    "\n",
    "\n",
    "\n"
   ]
  },
  {
   "cell_type": "code",
   "execution_count": 17,
   "metadata": {
    "colab": {},
    "colab_type": "code",
    "id": "syIsRZX-Dima"
   },
   "outputs": [],
   "source": [
    "class RBF:\n",
    "\n",
    "    def __init__(self, X, y, tX, ty, num_of_classes,\n",
    "                 k, std_from_clusters=True):\n",
    "        self.X = X\n",
    "        self.y = y\n",
    "\n",
    "        self.tX = tX\n",
    "        self.ty = ty\n",
    "\n",
    "        self.number_of_classes = num_of_classes\n",
    "        self.k = k\n",
    "        self.std_from_clusters = std_from_clusters\n",
    "\n",
    "    def convert_to_one_hot(self, x, num_of_classes):\n",
    "        arr = np.zeros((len(x), num_of_classes))\n",
    "        for i in range(len(x)):\n",
    "            c = int(x[i])\n",
    "            arr[i][c] = 1\n",
    "        return arr\n",
    "\n",
    "    def get_rbf(self, x, c, s):\n",
    "        distance = get_distance(x, c)\n",
    "        return 1 / np.exp(-distance / s ** 2)\n",
    "\n",
    "    def get_rbf_as_list(self, X, centroids, std_list):\n",
    "        RBF_list = []\n",
    "        for x in X:\n",
    "            RBF_list.append([self.get_rbf(x, c, s) for (c, s) in zip(centroids, std_list)])\n",
    "        return np.array(RBF_list)\n",
    "    \n",
    "    def fit(self):\n",
    "\n",
    "        self.centroids, self.std_list = kmeans(self.X, self.k, 1000)\n",
    "\n",
    "        if not self.std_from_clusters:\n",
    "            dMax = np.max([get_distance(c1, c2) for c1 in self.centroids for c2 in self.centroids])\n",
    "            self.std_list = np.repeat(dMax / np.sqrt(2 * self.k), self.k)\n",
    "\n",
    "        RBF_X = self.get_rbf_as_list(self.X, self.centroids, self.std_list)\n",
    "\n",
    "        self.w = np.linalg.pinv(RBF_X.T @ RBF_X) @ RBF_X.T @ self.convert_to_one_hot(self.y, self.number_of_classes)\n",
    "\n",
    "        RBF_list_tst = self.get_rbf_as_list(self.tX, self.centroids, self.std_list)\n",
    "\n",
    "        self.pred_ty = RBF_list_tst @ self.w\n",
    "\n",
    "        self.pred_ty = np.array([np.argmax(x) for x in self.pred_ty])\n",
    "\n",
    "        diff = self.pred_ty - self.ty\n",
    "\n",
    "        print('Accuracy: ', len(np.where(diff == 0)[0]) / len(diff))"
   ]
  },
  {
   "cell_type": "markdown",
   "metadata": {
    "colab_type": "text",
    "id": "CXF5VY-UD1wo"
   },
   "source": [
    "**Βήμα 3ο**\n",
    "\n",
    "Τρέχουμε τη συνάρτηση όπου το RBFNN γίνεται fit. Αρχικά τρέχει ο αλγόριθμος k-means για να βρούμε τα κέντρα και την τυπική απόκλιση των clusters. Στη συνέχεια, μπορούμε να χρησιμοποιήσουμε το ίδιο beta για όλα τα clusters\n",
    "\n",
    "\n",
    "---\n",
    "***Ερώτηση 3***\n",
    "\n",
    "Με ποιούς τρόπους μπορούμε να υπολογίσουμε τα βάρη; Ποιες διαφορές υπάρχουν στους τρόπους αυτούς; Ποιος παρέχει τη καλύτερη δυνατή λύση;\n",
    "\n",
    "***Απάντηση 3***\n",
    "\n",
    "Γενικά, τα RBF μπορούν να εκπαιδευτούν με hybrid τρόπο. Δηλαδή να εκπαιδέυσουμε το 1ο layer με τα centroids με unsupervised τρόπο **π.χ. k-means για centroids και k-nn για το spread (διασπορά) του kernel** και για το επόμενο layer της εξόδου να εφαρμόσουμε τα παρακάτω:\n",
    "\n",
    "\n",
    "Tα βάρη θα μπορούσαν να εκπαιδευτούν με τη χρήση του αλγορίθμου back propagation κάνοντας χρήση μια συνάρτηση κόστους όπως cross-entropy που θα ταίριαζε λόγω του ότι έχουμε πρόβλημα classification είτε άλλες φορές με MSE. Αρχικά θεωρούμε πως έχουμε Ν inputs για τα οποία ισχύει ότι ανήκουν στον $R^d$. Έχουμε $c$ centroids στο hidden layer και $m = 10$ νευρώνες στο επίπεδο εξόδου ένα για κάθε κλάση για το συγκεκριμένο πρόβλημα. Το back propagation μπορεί να γίνει με ποικίλους τρόπους gradient descent.\n",
    "  \n",
    "\n",
    "Παρακάτω περιγράφουμε έναν 2ο τρόπο ο οποίος υπάρχει στις διαφάνειες της μηχανικής μάθησης του κ. Σταφυλοπάτη.\n",
    "Θεωρούμε για κάθε δείγμα $x_i$ ένα διάνυσμα $ h_i = (Φ_1(x_i), ..., Φ_c(x_i))$ που συμβολίζει τα activations στο hidden layer των rbf. Ως αποτέλεσμα έχουμε τον πίνακα $Η$ διαστάσεων $Νxc$, όπου κάθε γραμμή αντιστοιχεί σε ένα διάνυσμα $h_i$.\n",
    "Τώρα, έχουμε $m=10$ νευρώνες στο στρώμα εξόδου, έναν για κάθε κλάση, και 10 διανύσματα βαρών $w_1, ..., w_{10}$ διάστασης c, ένα για κάθε νευρώνα. Ορίζουμε 10 διανύσματα $b_m στο \\{0,1\\} ^{10}$ που ορίζονται ως εξής: $b_{mi} = 1$, αν το $x_i$ ανήκει στην κλάση m, αλλιώς 0. \n",
    "  \n",
    "Έχοντας ορίσει με αυτόν τον τρόπο τα διανύσματα b, μπορούμε να υπολογίσουμε τα βάρη w ως: $w_m = H^{+}b_m$  \n",
    "\n",
    "όπου $H_{+}$ o ψευδοαντίστροφος του Η που ορίζειται ως $Η^{+} = (Η^{\\top}Η)^{-1}Η^{\\top}$ κι έχει διάσταση cxN\n",
    "\n",
    "\n",
    "Ο 2ος τρόπος είναι πιο ακριβός υπολογιστικά από τον πρώτο καθώς έχει δύσκολες αλγεβρικές πράξεις. Σε περίπτωση μεγάλων πινάκων δηλαδή δεν είναι αποδοτικός. Επίσης, μπορεί να οδηγήσει και σε overfit των δεδομένων. O 1oς τρόπος είναι πιο γρήγορος και αποδοτικός και συνηθίζεται στην εκπαίδευση νευρωνικών δικτύων."
   ]
  },
  {
   "cell_type": "markdown",
   "metadata": {
    "colab_type": "text",
    "id": "TWXVHJzDpZiS"
   },
   "source": [
    "**Βήμα 4ο**\n",
    "\n",
    "Σπάμε το dataset του MNIST σε training και testing και αφήνουμε το RBFNN να βγάλει το τελικό αποτέλεσμα.\n",
    "\n",
    "---\n",
    "\n",
    "***Ερώτηση 4***\n",
    "\n",
    "Επιχειρείστε να αλλάξετε την τιμή του k σε 500. Τι παρατηρείτε ως προς την εκτέλεση;\n",
    "\n",
    "***Απάντηση 4***\n",
    "\n",
    "Αλλάζοντας την τιμή σε 500, παρατηρούμε πως ανεβαίνει η ακρίβεια του αλγορίθμου. Αυτό δικαιολογείται καθώς όσο πιο πολλά centroids έχουμε στο hidden layer τόσο πιο γραμμικά διαχωρίσιμες γίνονται οι κλάσεις μας, λόγω του θεωρήματος του cover. Ωστόσο αυτό αυξάνει το υπολογιστικό κόστος αρκετά, αφού αργεί να γίνει η σύγκλιση έχοντας παραπάνω διαστάσεις. (Παρακάτω φαίνεται το keyboard interrupt επειδή έπαιρνε πολύ ώρα στον υπολογιστή μου.)\n"
   ]
  },
  {
   "cell_type": "code",
   "execution_count": 18,
   "metadata": {
    "colab": {},
    "colab_type": "code",
    "id": "L1xrfJvAqEC-",
    "scrolled": true
   },
   "outputs": [
    {
     "name": "stdout",
     "output_type": "stream",
     "text": [
      "K-MEANS:  59508\n",
      "K-MEANS:  4968\n",
      "K-MEANS:  2327\n",
      "K-MEANS:  3109\n",
      "K-MEANS:  785\n",
      "K-MEANS:  1050\n",
      "K-MEANS:  409\n",
      "K-MEANS:  503\n",
      "K-MEANS:  314\n",
      "K-MEANS:  153\n",
      "K-MEANS:  463\n",
      "K-MEANS:  34\n",
      "K-MEANS:  40\n",
      "K-MEANS:  18\n",
      "K-MEANS:  93\n",
      "K-MEANS:  282\n",
      "K-MEANS:  297\n",
      "K-MEANS:  258\n",
      "K-MEANS:  327\n",
      "K-MEANS:  450\n",
      "K-MEANS:  221\n",
      "K-MEANS:  212\n",
      "K-MEANS:  219\n",
      "K-MEANS:  7\n",
      "K-MEANS:  56\n",
      "K-MEANS:  191\n",
      "K-MEANS:  58\n",
      "K-MEANS:  166\n",
      "K-MEANS:  157\n",
      "K-MEANS:  17\n",
      "K-MEANS:  0\n",
      "Accuracy:  0.63\n"
     ]
    }
   ],
   "source": [
    "##################################\n",
    "\n",
    "data = np.load('mnist_data.npy').astype(float)\n",
    "\n",
    "train_y = data[0:2500, 0]\n",
    "train_x = data[0:2500, 1:]\n",
    "\n",
    "test_y = data[0:300, 0]\n",
    "test_x = data[0:300, 1:]\n",
    "\n",
    "RBF_CLASSIFIER = RBF(train_x, train_y, test_x, test_y, num_of_classes=10,\n",
    "                     k=10, std_from_clusters=False)\n",
    "\n",
    "RBF_CLASSIFIER.fit()"
   ]
  },
  {
   "cell_type": "code",
   "execution_count": 19,
   "metadata": {},
   "outputs": [
    {
     "ename": "KeyboardInterrupt",
     "evalue": "",
     "output_type": "error",
     "traceback": [
      "\u001b[0;31m---------------------------------------------------------------------------\u001b[0m",
      "\u001b[0;31mKeyboardInterrupt\u001b[0m                         Traceback (most recent call last)",
      "\u001b[0;32m<ipython-input-19-9eeeded3f74a>\u001b[0m in \u001b[0;36m<module>\u001b[0;34m\u001b[0m\n\u001b[1;32m     12\u001b[0m                      k=500, std_from_clusters=False)\n\u001b[1;32m     13\u001b[0m \u001b[0;34m\u001b[0m\u001b[0m\n\u001b[0;32m---> 14\u001b[0;31m \u001b[0mRBF_CLASSIFIER\u001b[0m\u001b[0;34m.\u001b[0m\u001b[0mfit\u001b[0m\u001b[0;34m(\u001b[0m\u001b[0;34m)\u001b[0m\u001b[0;34m\u001b[0m\u001b[0;34m\u001b[0m\u001b[0m\n\u001b[0m",
      "\u001b[0;32m<ipython-input-17-8275aa312a13>\u001b[0m in \u001b[0;36mfit\u001b[0;34m(self)\u001b[0m\n\u001b[1;32m     32\u001b[0m     \u001b[0;32mdef\u001b[0m \u001b[0mfit\u001b[0m\u001b[0;34m(\u001b[0m\u001b[0mself\u001b[0m\u001b[0;34m)\u001b[0m\u001b[0;34m:\u001b[0m\u001b[0;34m\u001b[0m\u001b[0;34m\u001b[0m\u001b[0m\n\u001b[1;32m     33\u001b[0m \u001b[0;34m\u001b[0m\u001b[0m\n\u001b[0;32m---> 34\u001b[0;31m         \u001b[0mself\u001b[0m\u001b[0;34m.\u001b[0m\u001b[0mcentroids\u001b[0m\u001b[0;34m,\u001b[0m \u001b[0mself\u001b[0m\u001b[0;34m.\u001b[0m\u001b[0mstd_list\u001b[0m \u001b[0;34m=\u001b[0m \u001b[0mkmeans\u001b[0m\u001b[0;34m(\u001b[0m\u001b[0mself\u001b[0m\u001b[0;34m.\u001b[0m\u001b[0mX\u001b[0m\u001b[0;34m,\u001b[0m \u001b[0mself\u001b[0m\u001b[0;34m.\u001b[0m\u001b[0mk\u001b[0m\u001b[0;34m,\u001b[0m \u001b[0;36m1000\u001b[0m\u001b[0;34m)\u001b[0m\u001b[0;34m\u001b[0m\u001b[0;34m\u001b[0m\u001b[0m\n\u001b[0m\u001b[1;32m     35\u001b[0m \u001b[0;34m\u001b[0m\u001b[0m\n\u001b[1;32m     36\u001b[0m         \u001b[0;32mif\u001b[0m \u001b[0;32mnot\u001b[0m \u001b[0mself\u001b[0m\u001b[0;34m.\u001b[0m\u001b[0mstd_from_clusters\u001b[0m\u001b[0;34m:\u001b[0m\u001b[0;34m\u001b[0m\u001b[0;34m\u001b[0m\u001b[0m\n",
      "\u001b[0;32m<ipython-input-10-f883bde8ecda>\u001b[0m in \u001b[0;36mkmeans\u001b[0;34m(X, k, max_iters)\u001b[0m\n\u001b[1;32m     48\u001b[0m             \u001b[0mdistances_list\u001b[0m \u001b[0;34m=\u001b[0m \u001b[0;34m[\u001b[0m\u001b[0;34m]\u001b[0m\u001b[0;34m\u001b[0m\u001b[0;34m\u001b[0m\u001b[0m\n\u001b[1;32m     49\u001b[0m             \u001b[0;32mfor\u001b[0m \u001b[0mc\u001b[0m \u001b[0;32min\u001b[0m \u001b[0mcentroids\u001b[0m\u001b[0;34m:\u001b[0m\u001b[0;34m\u001b[0m\u001b[0;34m\u001b[0m\u001b[0m\n\u001b[0;32m---> 50\u001b[0;31m                 \u001b[0mdistances_list\u001b[0m\u001b[0;34m.\u001b[0m\u001b[0mappend\u001b[0m\u001b[0;34m(\u001b[0m\u001b[0mget_distance\u001b[0m\u001b[0;34m(\u001b[0m\u001b[0mc\u001b[0m\u001b[0;34m,\u001b[0m \u001b[0mx\u001b[0m\u001b[0;34m)\u001b[0m\u001b[0;34m)\u001b[0m\u001b[0;34m\u001b[0m\u001b[0;34m\u001b[0m\u001b[0m\n\u001b[0m\u001b[1;32m     51\u001b[0m             \u001b[0mcluster_list\u001b[0m\u001b[0;34m[\u001b[0m\u001b[0mint\u001b[0m\u001b[0;34m(\u001b[0m\u001b[0mnp\u001b[0m\u001b[0;34m.\u001b[0m\u001b[0margmin\u001b[0m\u001b[0;34m(\u001b[0m\u001b[0mdistances_list\u001b[0m\u001b[0;34m)\u001b[0m\u001b[0;34m)\u001b[0m\u001b[0;34m]\u001b[0m\u001b[0;34m.\u001b[0m\u001b[0mappend\u001b[0m\u001b[0;34m(\u001b[0m\u001b[0mx\u001b[0m\u001b[0;34m)\u001b[0m\u001b[0;34m\u001b[0m\u001b[0;34m\u001b[0m\u001b[0m\n\u001b[1;32m     52\u001b[0m \u001b[0;34m\u001b[0m\u001b[0m\n",
      "\u001b[0;32m<ipython-input-10-f883bde8ecda>\u001b[0m in \u001b[0;36mget_distance\u001b[0;34m(x1, x2)\u001b[0m\n\u001b[1;32m     30\u001b[0m     \u001b[0msum\u001b[0m \u001b[0;34m=\u001b[0m \u001b[0;36m0\u001b[0m\u001b[0;34m\u001b[0m\u001b[0;34m\u001b[0m\u001b[0m\n\u001b[1;32m     31\u001b[0m     \u001b[0;32mfor\u001b[0m \u001b[0mi\u001b[0m \u001b[0;32min\u001b[0m \u001b[0mrange\u001b[0m\u001b[0;34m(\u001b[0m\u001b[0mlen\u001b[0m\u001b[0;34m(\u001b[0m\u001b[0mx1\u001b[0m\u001b[0;34m)\u001b[0m\u001b[0;34m)\u001b[0m\u001b[0;34m:\u001b[0m\u001b[0;34m\u001b[0m\u001b[0;34m\u001b[0m\u001b[0m\n\u001b[0;32m---> 32\u001b[0;31m         \u001b[0msum\u001b[0m \u001b[0;34m+=\u001b[0m \u001b[0;34m(\u001b[0m\u001b[0mx1\u001b[0m\u001b[0;34m[\u001b[0m\u001b[0mi\u001b[0m\u001b[0;34m]\u001b[0m \u001b[0;34m-\u001b[0m \u001b[0mx2\u001b[0m\u001b[0;34m[\u001b[0m\u001b[0mi\u001b[0m\u001b[0;34m]\u001b[0m\u001b[0;34m)\u001b[0m \u001b[0;34m**\u001b[0m \u001b[0;36m2\u001b[0m\u001b[0;34m\u001b[0m\u001b[0;34m\u001b[0m\u001b[0m\n\u001b[0m\u001b[1;32m     33\u001b[0m     \u001b[0;32mreturn\u001b[0m \u001b[0mnp\u001b[0m\u001b[0;34m.\u001b[0m\u001b[0msqrt\u001b[0m\u001b[0;34m(\u001b[0m\u001b[0msum\u001b[0m\u001b[0;34m)\u001b[0m\u001b[0;34m\u001b[0m\u001b[0;34m\u001b[0m\u001b[0m\n\u001b[1;32m     34\u001b[0m \u001b[0;34m\u001b[0m\u001b[0m\n",
      "\u001b[0;31mKeyboardInterrupt\u001b[0m: "
     ]
    }
   ],
   "source": [
    "##################################\n",
    "\n",
    "data = np.load('mnist_data.npy').astype(float)\n",
    "\n",
    "train_y = data[0:2500, 0]\n",
    "train_x = data[0:2500, 1:]\n",
    "\n",
    "test_y = data[0:300, 0]\n",
    "test_x = data[0:300, 1:]\n",
    "\n",
    "RBF_CLASSIFIER = RBF(train_x, train_y, test_x, test_y, num_of_classes=10,\n",
    "                     k=500, std_from_clusters=False)\n",
    "\n",
    "RBF_CLASSIFIER.fit()"
   ]
  },
  {
   "cell_type": "code",
   "execution_count": null,
   "metadata": {},
   "outputs": [],
   "source": []
  }
 ],
 "metadata": {
  "colab": {
   "name": "Stochastics_Lab8_Part1.ipynb",
   "provenance": []
  },
  "kernelspec": {
   "display_name": "Python 3",
   "language": "python",
   "name": "python3"
  },
  "language_info": {
   "codemirror_mode": {
    "name": "ipython",
    "version": 3
   },
   "file_extension": ".py",
   "mimetype": "text/x-python",
   "name": "python",
   "nbconvert_exporter": "python",
   "pygments_lexer": "ipython3",
   "version": "3.7.3"
  }
 },
 "nbformat": 4,
 "nbformat_minor": 1
}
