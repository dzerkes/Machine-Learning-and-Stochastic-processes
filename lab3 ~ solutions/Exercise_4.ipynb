{
 "cells": [
  {
   "cell_type": "markdown",
   "metadata": {
    "colab_type": "text",
    "id": "0LsZdK1LTB1T"
   },
   "source": [
    "<h1><b>Άσκηση 4</b></h1>\n",
    "<p align=\"justify\">Η μέθοδος Monte Carlo είναι μια υπολογιστική μέθοδος, που βασίζεται στο νόμο των μεγάλων αριθμών. Αν {Χ<sub>n</sub>}<sub>n∈N</sub> είναι μια ακολουθία από ανεξάρτητες, ισόνομες τυχαίες μεταβλητές, με πεπερασμένη μέση τιμή Ε[Χ], τότε:</p>\n",
    "<img src=\"https://raw.githubusercontent.com/nkostopoulos/StochasticsLabPublic/master/2020/lab3/ex4a.PNG\"><img>\n",
    "<p align=\"justify\">Προκειμένου να υπολογίσουμε τη μέση τιμή Ε[Χ]  μιας τυχαίας μεταβλητής Χ, μπορούμε λοιπόν να πάρουμε το μέσο όρο ενός μεγάλου αριθμού ανεξάρτητων δειγμάτων αυτής της μεταβλητής. Με παρόμοιο τρόπο, μπορούμε να προσεγγίσουμε υπολογιστικά την πιθανότητα ενός ενδεχομένου από το κλάσμα των πραγματοποιήσεών του σε μια σειρά από <b>m</b> ανεξάρτητες προσομοιώσεις μέχρι το βήμα <b>n</b>, δηλαδή:</p>\n",
    "<img src=\"https://raw.githubusercontent.com/nkostopoulos/StochasticsLabPublic/master/2020/lab3/ex4b.PNG\"><img>\n",
    "                    (μήπως είναι Xj αντί για Xn καθώς αλλιώς το j είναι σα να μη χρησιμοποιείται)\n",
    "\n",
    "\n",
    "<p align=\"justify\">όπου η τυχαία μεταβλητή Η_k παίρνει την τιμή 1 εάν το ενδεχόμενο πραγματοποιείται στο τέλος του εκάστοτε πειράματος και 0 στην αντίθετη περίπτωση. Σ’ αυτήν την ιδέα θα βασιστεί η άσκηση αυτή. Σας δίνεται η μαρκοβιανή αλυσίδα στο χώρο καταστάσεων <b>Χ</b>={1,2,3} με πίνακα πιθανοτήτων μετάβασης:</p>\n",
    "<img src=\"https://raw.githubusercontent.com/nkostopoulos/StochasticsLabPublic/master/2020/lab3/ex4d.PNG\"><img>\n",
    "<p align=\"justify\">Χρησιμοποιώντας το πρόγραμμα που δίνεται παρακάτω, θα πραγματοποιήσετε <b>m</b> ανεξάρτητα πειράματα για να εκτιμήσετε την πιθανότητα <b>Για να τρέξετε το πρόγραμμα θα πρέπει να έχετε φορτώσει το αρχείο <i><a href=\"https://github.com/nkostopoulos/StochasticsLabPublic/blob/master/2020/lab3/simple_markov_chain_lib.py\">simple_markov_chain_lib.py</a></i></b>.</p>\n",
    "<img src=\"https://raw.githubusercontent.com/nkostopoulos/StochasticsLabPublic/master/2020/lab3/ex4e.PNG\"><img>\n",
    "<p align=\"justify\">δηλαδή την πιθανότητα να βρίσκεται η αλυσίδα στην κατάσταση 1 στο 40ό βήμα της δεδομένου ότι ξεκίνησε από την κατάσταση 1. Για να ελέγξετε την ορθότητα της μεθόδου, το πρόγραμμα περιλαμβάνει και τον ακριβή υπολογισμό της παραπάνω πιθανότητας.</p> \n",
    "<ul>\n",
    "<li>Να μελετήσετε το πρόγραμμα και να περιγράψετε σύντομα τη μέθοδο που ακολουθείται.</li>\n",
    "<li>Να επαναλάβετε τη διαδικασία για τιμές της παραμέτρου m: (α) 1,000, (β) 10,000, (γ) 50,000, (δ) 100,000, (ε) 500,000. Να καταγράψετε και να σχολιάσετε την τιμή της παραπάνω πιθανότητας όπως υπολογίζεται από το πρόγραμμα demo4.py σε σχέση με την ακριβή τιμή της.</li>\n",
    "</ul>\n"
   ]
  },
  {
   "cell_type": "markdown",
   "metadata": {},
   "source": [
    "### Περιγραφή Αλγορίθμου που τρέχει το πρόγραμμα\n",
    "\n",
    "Αρχικά, το πρόγραμμα μας περιέχει τη συνάρτηση defineMarkovTable  η οποία δημιουργεί τον πίνακα markov P σύμφωνα με αυτά που δίνει η άσκηση. ο Πίνακας P έχει τη δομή dictionary.\n",
    "\n",
    "Έπειτα υπάρχει μια ακόμα συνάρτηση η defineNumpyTable(), η οποία φτιάχνει σε numpy τον Πίνακα Pn ο οποίος είναι ίδιος με τον P που μας δίνει η άσκηση και επίσης φτιάχνει ένα πίνακα numpy με τις πιθανότητες P0 = Π = (1,0,0) εφόσον υποθέτουμε πως ξεκινάμε από την κατάσταση 1.\n",
    "\n",
    "Στη συνέχεια υπάρχει η συνάρτηση multiplyNumpyTables η οποία για 40 steps, καθώς τόσα μας ενδιαφέρουν στο πείραμα μας, πολλαπλασιάζει τον πίνακα Pn με τον εαυτό του. δηλαδή γίνεται η πράξη Pn * Pn ... *Pn , 40 φορές.\n",
    "Τέλος μετά τους 40 πολλαπλασιασμούς πολλαπλασιάζεται το τελικό αποτέλεσμα με το P0 και η συνάρτηση επιστρέφει το τελικό Pn.\n",
    "\n",
    "H defineInitDistribution συνάρτηση αρχικοποιεί μια κατανομή με τη χρήση λεξικού {1 : 1.} η οποία χρησιμοποιείται μετά από τη συνάρτηση markov_chain() του αρχείου simple_markov_chain_lib.\n",
    "\n",
    "Η συνάρτηση markov_chain δημιουργεί το transition matrix με μια αρχική κατανομή που της δίνεται.\n",
    "\n",
    "Η συνάρτηση calculateProbabilities δέχεται ως παράμετρο τις μεταβλητές markov_table που είναι ο πίνακας Pn σε μορφή λεξικού για να δοθεί σαν είσοδο στη συνάρτηση markov_chain, επίσης δέχεται την init_dist που και αυτή με τη σειρά της είναι είσοδος της συνάρτησης markov_chain. Τέλος δέχεται μια παράμετρο experiments που είναι η παράμετρος __m__ και πέρνει τις τιμές που ζητάει η άσκηση. Στη συνέχεια τρέχει αυτή την αλυσίδα για όσες φορές ειναι η μεταβλητή experiments και μετράει την πιθανότητα που μας ζητάει η άσκηση:\n",
    "\n",
    "<img src=\"https://raw.githubusercontent.com/nkostopoulos/StochasticsLabPublic/master/2020/lab3/ex4e.PNG\"><img>\n",
    "\n",
    "Αυτό το κάνει καθώς κάθε φορά που επισκεπτόμαστε την κατάσταση 1, αυξάνουμε τη μεταβλητή visits. Τέλος κάνουμε τη διαίρεση visits/ experiments(m) και παίρνουμε την παραπάνω πιθανότητα.\n",
    "\n",
    "Αυτή η πιθανότητα είναι αυτή που βρήκε η μέθοδος monte carlo.\n",
    "\n",
    "Mετά βρίσκουμε την πραγματική πιθανότητα με τη μέθοδο multiplyNumpyTables η οποία αναφέραμε προηγουμένως τι κάνει. Είναι η πράξη Pn * Pn... *Pn για 40 φορές και μετά *P0.\n",
    "\n",
    "Τέλος συγκρίνουμε τις δύο πιθανότητες."
   ]
  },
  {
   "cell_type": "code",
   "execution_count": 20,
   "metadata": {
    "colab": {},
    "colab_type": "code",
    "id": "gkMG5r8WX1np"
   },
   "outputs": [
    {
     "name": "stdout",
     "output_type": "stream",
     "text": [
      "Starting with M =  1000\n",
      "Monte carlo simulation probability:  0.031\n",
      "With elapsed time:  0.06122016906738281\n",
      "Real probability  0.0399994958851946\n",
      "With elapsed time:  0.0001709461212158203\n",
      "Difference between those 2 probabilities:  0.008999495885194601\n",
      "Finished with M =  1000\n",
      "\n",
      "\n",
      "Starting with M =  10000\n",
      "Monte carlo simulation probability:  0.039\n",
      "With elapsed time:  0.5254566669464111\n",
      "Real probability  0.0399994958851946\n",
      "With elapsed time:  0.00016641616821289062\n",
      "Difference between those 2 probabilities:  0.0009994958851946012\n",
      "Finished with M =  10000\n",
      "\n",
      "\n",
      "Starting with M =  50000\n",
      "Monte carlo simulation probability:  0.04036\n",
      "With elapsed time:  3.1567912101745605\n",
      "Real probability  0.0399994958851946\n",
      "With elapsed time:  0.0001876354217529297\n",
      "Difference between those 2 probabilities:  0.0003605041148053989\n",
      "Finished with M =  50000\n",
      "\n",
      "\n",
      "Starting with M =  100000\n",
      "Monte carlo simulation probability:  0.03994\n",
      "With elapsed time:  5.998971223831177\n",
      "Real probability  0.0399994958851946\n",
      "With elapsed time:  0.00029087066650390625\n",
      "Difference between those 2 probabilities:  5.9495885194597864e-05\n",
      "Finished with M =  100000\n",
      "\n",
      "\n",
      "Starting with M =  500000\n",
      "Monte carlo simulation probability:  0.03998\n",
      "With elapsed time:  29.95117950439453\n",
      "Real probability  0.0399994958851946\n",
      "With elapsed time:  0.00018644332885742188\n",
      "Difference between those 2 probabilities:  1.9495885194599494e-05\n",
      "Finished with M =  500000\n",
      "\n",
      "\n",
      "Sorted Results: \n"
     ]
    }
   ],
   "source": [
    "from __future__ import division\n",
    "from simple_markov_chain_lib import markov_chain\n",
    "import statistics as stat\n",
    "from numpy import matmul\n",
    "import numpy as np\n",
    "import time\n",
    "\n",
    "def defineMarkovTable(): \n",
    "\tp = 1/6\n",
    "\tmarkov_table = {\n",
    "\t\t1: {2: 1.},\n",
    "\t\t2: {2: 2/3, 3: 1/3},\n",
    "\t\t3: {1: p, 2: 1-p}\n",
    "\t}\n",
    "\n",
    "\treturn markov_table\n",
    "\n",
    "def defineNumpyTable():\n",
    "\tPn = np.array([[0,1,0],\n",
    "\t\t       [0,2/3,1/3],\n",
    "\t\t       [1/6, 5/6, 0]])\n",
    "\tP0 = np.array([[1,0,0]])\n",
    "\t\n",
    "\treturn Pn,P0\n",
    "\n",
    "def multiplyNumpyTables(Pn,P0):\n",
    "\tfor index in range(40):\n",
    "\t\tPn = np.matmul(Pn,Pn)\n",
    "\tPn = np.matmul(P0,Pn)\n",
    "\treturn Pn\n",
    "\n",
    "def defineInitDistribution():\n",
    "\tinit_dist = {1: 1.}\n",
    "\t\n",
    "\treturn init_dist\n",
    "\n",
    "def calculateProbabilities(markov_table, init_dist,experiments_number):\n",
    "\tmc = markov_chain(markov_table, init_dist)\n",
    "\texperiments = experiments_number\n",
    "\tsteps = 40 # because we want X40=1 given X0=1 (Probability being in 1 after 40 steps when started from there )\n",
    "\tvisits = 0\n",
    "\n",
    "\tfor index in range(experiments):\n",
    "\t\tmc.start()\n",
    "\t\tfor j in range(steps):\n",
    "\t\t\tmc.move()\n",
    "\t\tif mc.running_state == 1: visits += 1\n",
    "\n",
    "\tprobability = visits / experiments\n",
    "\treturn probability\n",
    "\n",
    "\n",
    "markov_table = defineMarkovTable()\n",
    "init_dist = defineInitDistribution()\n",
    "\n",
    "myexp = [1000, 10000, 50000, 100000, 500000]\n",
    "\n",
    "myresults = {1000:0,10000:0,50000:0,100000:0,500000:0}\n",
    "\n",
    "for i in myexp:\n",
    "    \n",
    "    print(\"Starting with M = \", i)\n",
    "    start_time = time.time()\n",
    "    probability = calculateProbabilities(markov_table, init_dist,i)\n",
    "    elapsed_time = time.time() - start_time\n",
    "    print(\"Monte carlo simulation probability: \",probability)\n",
    "    print(\"With elapsed time: \",elapsed_time )\n",
    "    \n",
    "    start_time = time.time()\n",
    "    Pn,P0 = defineNumpyTable()\n",
    "    realProbability = multiplyNumpyTables(Pn,P0)\n",
    "    elapsed_time = time.time() - start_time\n",
    "    print(\"Real probability \",realProbability[0][0]) # βάζουμε τα μηδενικά γιατί θέλω την πιθανότητα για κατάσταση 1\n",
    "    print(\"With elapsed time: \",elapsed_time )\n",
    "    print(\"Difference between those 2 probabilities: \", abs(probability -realProbability[0][0] ))\n",
    "    print(\"Finished with M = \", i)\n",
    "    print(\"\\n\")\n",
    "    myresults[i] = abs(probability -realProbability[0][0])\n",
    "                      \n",
    "myresults = {k: v for k, v in sorted(myresults.items(), key=lambda item: item[1])}\n",
    "#print(\"Sorted Results: \",myresults)"
   ]
  },
  {
   "cell_type": "code",
   "execution_count": 25,
   "metadata": {},
   "outputs": [
    {
     "name": "stdout",
     "output_type": "stream",
     "text": [
      "Sorted Results:  {500000: 1.9495885194599494e-05, 100000: 5.9495885194597864e-05, 50000: 0.0003605041148053989, 10000: 0.0009994958851946012, 1000: 0.008999495885194601}\n"
     ]
    }
   ],
   "source": [
    "myresults = {k: v for k, v in sorted(myresults.items(), key=lambda item: item[1])}\n",
    "print(\"Sorted Results: \",myresults) # key is number of experiments , value is difference with real prob and monte carlo."
   ]
  },
  {
   "cell_type": "markdown",
   "metadata": {},
   "source": [
    "### Τελικά αποτελέσματα ~ Παρατηρήσεις\n",
    "\n",
    "Παρατηρούμε πως κάθε φορά που αυξάνεται ο αριθμός πειραμάτων, μειώνεται η διαφορά και η πραγματική πιθανότητα προσεγγίζεται πιο γρήγορα."
   ]
  },
  {
   "cell_type": "markdown",
   "metadata": {},
   "source": [
    "Αυτό μας κάνει να σκεφτούμε πως η μέθοδος monte carlo είναι μια αρκετά καλή μέθοδος για να προσεγγίσουμε πραγματικές πιθανότητες σε περίπτωση που δε τις γνωρίζουμε."
   ]
  }
 ],
 "metadata": {
  "colab": {
   "collapsed_sections": [],
   "name": "Stochastic_Processes_&_Optimization_in_Machine_Learning_(Lab_3_Exercise_4).ipynb",
   "provenance": []
  },
  "kernelspec": {
   "display_name": "Python 3",
   "language": "python",
   "name": "python3"
  },
  "language_info": {
   "codemirror_mode": {
    "name": "ipython",
    "version": 3
   },
   "file_extension": ".py",
   "mimetype": "text/x-python",
   "name": "python",
   "nbconvert_exporter": "python",
   "pygments_lexer": "ipython3",
   "version": "3.7.3"
  }
 },
 "nbformat": 4,
 "nbformat_minor": 1
}
