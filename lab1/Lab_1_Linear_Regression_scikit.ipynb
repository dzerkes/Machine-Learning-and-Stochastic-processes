{
 "cells": [
  {
   "cell_type": "markdown",
   "metadata": {
    "colab_type": "text",
    "id": "SCIo5COiZR65"
   },
   "source": [
    "<h1><b>Ο Αλγόριθμος Γραμμικής Παλινδρόμησης (Linear Regression)</b></h1>\n",
    "\n",
    "<p align=\"justify\">Στην άσκηση αυτή θα μελετήσετε τον αλγόριθμο <i>γραμμικής παλινδρόμησης (linear regression)</i>, αναπτύσσοντας ένα δικό σας πρόγραμμα Python που υλοποιεί όλες τις απαραίτητες ενέργειες, χωρίς να χρησιμοποιήσετε κάποια βιβλιοθήκη της Python που υλοποιεί το μοντέλο <i>linear regression</i>, όπως είναι η <i>Scikit-Learn</i>.</p>\n",
    "\n",
    "<p align=\"justify\">Αρχικά παρέχονται δύο αρχεία με δεδομένα εκπαίδευσης: (α) <i><a href=\"https://github.com/nkostopoulos/StochasticsLabPublic/blob/master/2020/lab1/data1a.csv\">data1a.csv</a></i> και (β) <i><a href=\"https://github.com/nkostopoulos/StochasticsLabPublic/blob/master/2020/lab1/data1b.csv\">data1b.csv</a></i>. Κάθε γραμμή του αρχείου <i>data1a.csv</i> περιλαμβάνει πληροφορίες που αφορούν τη θέαση video στο <i>YouTube</i>, όπως <i>τίτλος</i>, <i>αριθμός views</i>, <i>likes</i>, <i>dislikes</i>, κτλ. Συνολικά, το αρχείο <i>data1a.csv</i> περιλαμβάνει 11 στήλες. Περισσότερες πληροφορίες για το αρχείο <i>data1a.csv</i> μπορούν να αναζητηθούν <a href=\"https://www.kaggle.com/akanshasingh/us-videos-csv\">εδώ</a>. Το αρχείο <i>data1b.csv</i> περιλαμβάνει 2 στήλες με επικεφαλίδες x και y αντίστοιχα. Οι τιμές αυτές δεν έχουν κάποια φυσική σημασία. Περισσότερες πληροφορίες μπορούν να βρεθούν <a href=\"https://www.kaggle.com/testpython/linear-regression-with-single-variable\">εδώ</a>.</p>\n",
    "\n",
    "<p align=\"justify\">Σκοπός της άσκησης είναι να αναπτύξετε ένα μοντέλο απλής (simple) <i>linear regression</i>, το οποίο θα είναι σε θέση να εκτιμά (α) για την περίπτωση του αρχείου <i>data1a.csv</i> τον αριθμό των <i>views</i> (εξαρτημένη μεταβλητή) ενός video βάσει του αριθμού των <i>likes</i> (ανεξάρτητη μεταβλητή) που αυτό έχει πάρει και (β) για την περίπτωση του αρχείου <i>data1b.csv</i> την τιμή της μεταβλητής y βάσει των τιμών της μεταβλητής x. Να αναπτύξετε ένα ενιαίο πρόγραμμα που να κάνει τα παρακάτω:</p>\n",
    "<ul>\n",
    "<li>Θα φορτώνει τα δεδομένα από τα αρχεία .csv και θα απομονώνει τις στήλες που έχουν σημασία, δηλαδή στην περίπτωση του αρχείου data1a.csv τις στήλες με επικεφαλίδες views και likes και στην περίπτωση του αρχείου data1b.csv τις στήλες με επικεφαλίδες y και x.</li>\n",
    "<li>Θα υπολογίζει τη συσχέτιση (correlation) ανάμεσα στην ανεξάρτητη και εξαρτημένη μεταβλητή των δεδομένων που παρέχονται. Το βήμα αυτό είναι απαραίτητο για να εξακριβωθεί ποιος είναι ο βαθμός γραμμικής εξάρτησης ανάμεσα στις δύο μεταβλητές. Ποιο είναι το correlation που προκύπτει στις δύο περιπτώσεις; Είναι ικανοποιητική η γραμμική εξάρτηση των δύο μεταβλητών; Για το ερώτημα αυτό να μελετήσετε την πηγή <a href=\"https://en.wikipedia.org/wiki/Correlation_and_dependence\">εδώ</a>.</li>\n",
    "<li>Θα απεικονίζει τα σημεία που προκύπτουν ως ζεύγη της ανεξάρτητης και εξαρτημένης μεταβλητής που απομονώθηκαν στο πρώτο ερώτημα. Τι παρατηρείτε σε σχέση με τα συμπεράσματα που βγάλατε στο δεύτερο ερώτημα;</li>\n",
    "<li>Θα κανονικοποιεί τα δεδομένα που παρέχονται με τη μέθοδο min-max normalization. Περισσότερες πληροφορίες για τη μέθοδο αυτή μπορούν να βρεθούν <a href=\"https://en.wikipedia.org/wiki/Feature_scaling\">εδώ</a>.</li>\n",
    "<li>Θα υποδιαιρεί τα δεδομένα που παρέχονται με τυχαίο τρόπο σε δύο υποσύνολα: (α) το training set που περιλαμβάνει τα δεδομένα που θα χρησιμοποιηθούν για την εκπαίδευση του μοντέλου και (β) το test set που περιλαμβάνει τα δεδομένα που θα χρησιμοποιηθούν για την επικύρωση (validation) της ακρίβειας του μοντέλου. Ο χρήστης θα ορίζει το ποσοστό του κάθε αρχείου σε σχέση με το αρχικό.</li>\n",
    "<li>Θα υπολογίζει τις παραμέτρους του μοντέλου linear regression, χρησιμοποιώντας τη μέθοδο Stochastic Gradient Descent (SGD). Για το σκοπό αυτό, ο χρήστης θα πρέπει να ορίζει το ρυθμό μάθησης (learning rate) και το συνολικό αριθμό των εποχών (epochs) εκπαίδευσης. Να θεωρήσετε ότι οι αρχικές τιμές των παραμέτρων είναι μηδενικές.</li>\n",
    "<li>Θα υπολογίζει το μέσο τετραγωνικό σφάλμα (mean squared error) των προβλέψεων πάνω στο test set. Περισσότερες πληροφορίες μπορούν να βρεθούν <a href=\"https://en.wikipedia.org/wiki/Mean_squared_error\">εδώ</a>.</li>\n",
    "</ul>\n",
    "\n",
    "<p align=\"justify\">Να θεωρήσετε ότι το test set είναι το 20% του αρχικού dataset. Τι παρατηρείτε ότι συμβαίνει στην περίπτωση που δε γίνει κανονικοποίηση των δεδομένων; Πειραματιστείτε με τις τιμές του ρυθμού μάθησης και τον αριθμό των εποχών για να δείτε πώς αλλάζει το μέσο τετραγωνικό σφάλμα.<p>"
   ]
  },
  {
   "cell_type": "code",
   "execution_count": 1,
   "metadata": {
    "colab": {},
    "colab_type": "code",
    "id": "-Mh1rOPC1eV1"
   },
   "outputs": [],
   "source": [
    "import numpy as np\n",
    "import matplotlib.pyplot as plt\n",
    "import pandas as pd"
   ]
  },
  {
   "cell_type": "markdown",
   "metadata": {},
   "source": [
    "# Απομόνωση x,y"
   ]
  },
  {
   "cell_type": "code",
   "execution_count": 2,
   "metadata": {
    "colab": {},
    "colab_type": "code",
    "id": "Gi6eokNdf30g"
   },
   "outputs": [],
   "source": [
    "datas1 = pd.read_csv('data1a.csv')\n",
    "x1 = datas1.loc[:,'likes']\n",
    "y1 = datas1.loc[:,'views']"
   ]
  },
  {
   "cell_type": "code",
   "execution_count": 3,
   "metadata": {
    "colab": {},
    "colab_type": "code",
    "id": "ii1-WiYOf8Uo"
   },
   "outputs": [],
   "source": [
    "datas2 = pd.read_csv('data1b.csv')\n",
    "x2 = datas2.loc[:,'x']\n",
    "y2 = datas2.loc[:,'y']"
   ]
  },
  {
   "cell_type": "markdown",
   "metadata": {},
   "source": [
    "# Correlation\n",
    "\n",
    "Για το σύνολο δεδομένων με τα likes-views παρατηρούμε πως υπάρχει συσχέτιση της τάξης του 0.84% από το διάγραμμα πάρα πολύ κοντά στο 1. Γεγονός που δείχνει μεγάλη συσχέτιση.\n",
    "\n",
    "Ομοίως το ίδιο συμβαίνει και στο σύνολο δεδομένων με τιμές x , y, το οποίο έχει και αυτό πολύ υψηλή θετική συσχέτιση της τάξεως του 0.96%\n",
    "\n",
    "Επομένως, εφόσον οι τιμές είναι κοντά στο 1 τότε έχουμε πολύ καλή συσχέτιση."
   ]
  },
  {
   "cell_type": "code",
   "execution_count": 4,
   "metadata": {},
   "outputs": [
    {
     "data": {
      "image/png": "[encoded data removed]",
      "text/plain": [
       "<Figure size 288x288 with 2 Axes>"
      ]
     },
     "metadata": {
      "needs_background": "light"
     },
     "output_type": "display_data"
    },
    {
     "data": {
      "image/png": "[encoded data removed]",
      "text/plain": [
       "<Figure size 288x288 with 2 Axes>"
      ]
     },
     "metadata": {
      "needs_background": "light"
     },
     "output_type": "display_data"
    }
   ],
   "source": [
    "datas1 = datas1.loc[:,['likes','views']]\n",
    "plt.matshow(datas1.corr())\n",
    "cb = plt.colorbar()\n",
    "plt.title('Correlation Matrix for views and likes', fontsize=10);\n",
    "plt.show()\n",
    "\n",
    "#datas1 = datas2.loc[:,['x','y']]\n",
    "plt.matshow(datas2.corr())\n",
    "cb = plt.colorbar()\n",
    "plt.title('Correlation Matrix for x and y', fontsize=10);\n",
    "\n",
    "plt.show()"
   ]
  },
  {
   "cell_type": "markdown",
   "metadata": {},
   "source": [
    "Παρακάτω φαίνονται οι αριθμητικές τιμές για τη συσχέτιση εξαρτημένης και ανεξάρτητης μεταβλητής."
   ]
  },
  {
   "cell_type": "code",
   "execution_count": 5,
   "metadata": {},
   "outputs": [
    {
     "data": {
      "text/html": [
       "<div>\n",
       "<style scoped>\n",
       "    .dataframe tbody tr th:only-of-type {\n",
       "        vertical-align: middle;\n",
       "    }\n",
       "\n",
       "    .dataframe tbody tr th {\n",
       "        vertical-align: top;\n",
       "    }\n",
       "\n",
       "    .dataframe thead th {\n",
       "        text-align: right;\n",
       "    }\n",
       "</style>\n",
       "<table border=\"1\" class=\"dataframe\">\n",
       "  <thead>\n",
       "    <tr style=\"text-align: right;\">\n",
       "      <th></th>\n",
       "      <th>likes</th>\n",
       "      <th>views</th>\n",
       "    </tr>\n",
       "  </thead>\n",
       "  <tbody>\n",
       "    <tr>\n",
       "      <th>likes</th>\n",
       "      <td>1.000000</td>\n",
       "      <td>0.832853</td>\n",
       "    </tr>\n",
       "    <tr>\n",
       "      <th>views</th>\n",
       "      <td>0.832853</td>\n",
       "      <td>1.000000</td>\n",
       "    </tr>\n",
       "  </tbody>\n",
       "</table>\n",
       "</div>"
      ],
      "text/plain": [
       "          likes     views\n",
       "likes  1.000000  0.832853\n",
       "views  0.832853  1.000000"
      ]
     },
     "execution_count": 5,
     "metadata": {},
     "output_type": "execute_result"
    }
   ],
   "source": [
    "datas1.corr()"
   ]
  },
  {
   "cell_type": "code",
   "execution_count": 6,
   "metadata": {},
   "outputs": [
    {
     "data": {
      "text/html": [
       "<div>\n",
       "<style scoped>\n",
       "    .dataframe tbody tr th:only-of-type {\n",
       "        vertical-align: middle;\n",
       "    }\n",
       "\n",
       "    .dataframe tbody tr th {\n",
       "        vertical-align: top;\n",
       "    }\n",
       "\n",
       "    .dataframe thead th {\n",
       "        text-align: right;\n",
       "    }\n",
       "</style>\n",
       "<table border=\"1\" class=\"dataframe\">\n",
       "  <thead>\n",
       "    <tr style=\"text-align: right;\">\n",
       "      <th></th>\n",
       "      <th>x</th>\n",
       "      <th>y</th>\n",
       "    </tr>\n",
       "  </thead>\n",
       "  <tbody>\n",
       "    <tr>\n",
       "      <th>x</th>\n",
       "      <td>1.000000</td>\n",
       "      <td>0.995071</td>\n",
       "    </tr>\n",
       "    <tr>\n",
       "      <th>y</th>\n",
       "      <td>0.995071</td>\n",
       "      <td>1.000000</td>\n",
       "    </tr>\n",
       "  </tbody>\n",
       "</table>\n",
       "</div>"
      ],
      "text/plain": [
       "          x         y\n",
       "x  1.000000  0.995071\n",
       "y  0.995071  1.000000"
      ]
     },
     "execution_count": 6,
     "metadata": {},
     "output_type": "execute_result"
    }
   ],
   "source": [
    "datas2.corr()"
   ]
  },
  {
   "cell_type": "markdown",
   "metadata": {},
   "source": [
    "### Παρακάτω μελετάμε και το συντελεστή συσχέτισης spearman ο οποίος είναι αρκετά υψηλός και κοντά στο 1 με στατιστικά σημαντικό p value. Επομένως, υπάρχει συσχέτιση και στα 2 dataset."
   ]
  },
  {
   "cell_type": "code",
   "execution_count": 7,
   "metadata": {},
   "outputs": [],
   "source": [
    "from scipy.stats import spearmanr"
   ]
  },
  {
   "cell_type": "code",
   "execution_count": 8,
   "metadata": {},
   "outputs": [
    {
     "data": {
      "text/plain": [
       "SpearmanrResult(correlation=0.8455249805860446, pvalue=0.0)"
      ]
     },
     "execution_count": 8,
     "metadata": {},
     "output_type": "execute_result"
    }
   ],
   "source": [
    "spearmanr(x1,y1)"
   ]
  },
  {
   "cell_type": "code",
   "execution_count": 9,
   "metadata": {},
   "outputs": [
    {
     "data": {
      "text/plain": [
       "SpearmanrResult(correlation=0.9950650428909363, pvalue=0.0)"
      ]
     },
     "execution_count": 9,
     "metadata": {},
     "output_type": "execute_result"
    }
   ],
   "source": [
    "spearmanr(x2,y2)"
   ]
  },
  {
   "cell_type": "markdown",
   "metadata": {},
   "source": [
    "# Διαγράμματα Διασποράς\n",
    "\n",
    "παρατηρούμε πως και γραφικά φαίνεται μια θετική συσχέτιση των μεταβλητών καθώς όσο αυξάνει η μια αυξάνει και η άλλη.\n",
    "\n",
    "Ειδικά στο 2ο διάγραμμα διασποράς παρατηρούμε μια τέλεια σχεδόν μονοτονικότητα."
   ]
  },
  {
   "cell_type": "code",
   "execution_count": 10,
   "metadata": {},
   "outputs": [
    {
     "data": {
      "text/plain": [
       "<matplotlib.collections.PathCollection at 0x7f97ee054208>"
      ]
     },
     "execution_count": 10,
     "metadata": {},
     "output_type": "execute_result"
    },
    {
     "data": {
      "image/png": "[encoded data removed]",
      "text/plain": [
       "<Figure size 432x288 with 1 Axes>"
      ]
     },
     "metadata": {
      "needs_background": "light"
     },
     "output_type": "display_data"
    }
   ],
   "source": [
    "plt.scatter(x1,y1) #data1a"
   ]
  },
  {
   "cell_type": "code",
   "execution_count": 11,
   "metadata": {},
   "outputs": [
    {
     "data": {
      "text/plain": [
       "<matplotlib.collections.PathCollection at 0x7f97edfbeb70>"
      ]
     },
     "execution_count": 11,
     "metadata": {},
     "output_type": "execute_result"
    },
    {
     "data": {
      "image/png": "[encoded data removed]",
      "text/plain": [
       "<Figure size 432x288 with 1 Axes>"
      ]
     },
     "metadata": {
      "needs_background": "light"
     },
     "output_type": "display_data"
    }
   ],
   "source": [
    "plt.scatter(x2,y2) #data1b"
   ]
  },
  {
   "cell_type": "markdown",
   "metadata": {},
   "source": [
    "# Min - Max normalization"
   ]
  },
  {
   "cell_type": "code",
   "execution_count": 12,
   "metadata": {},
   "outputs": [],
   "source": [
    "from sklearn.preprocessing import MinMaxScaler\n",
    "scaler1 = MinMaxScaler()\n",
    "scaler2 = MinMaxScaler()\n",
    "\n",
    "#data1a\n",
    "\n",
    "datas1 = scaler1.fit_transform(datas1)\n",
    "\n",
    "#data1b\n",
    "datas2 = scaler2.fit_transform(datas2)"
   ]
  },
  {
   "cell_type": "code",
   "execution_count": 13,
   "metadata": {},
   "outputs": [
    {
     "data": {
      "text/plain": [
       "array([[0.15920136, 0.1058785 ],\n",
       "       [0.09244735, 0.18939739],\n",
       "       [0.28681195, 0.140863  ],\n",
       "       ...,\n",
       "       [0.00352573, 0.00344351],\n",
       "       [0.00106846, 0.00059112],\n",
       "       [0.00078294, 0.00347076]])"
      ]
     },
     "execution_count": 13,
     "metadata": {},
     "output_type": "execute_result"
    }
   ],
   "source": [
    "datas1"
   ]
  },
  {
   "cell_type": "code",
   "execution_count": 14,
   "metadata": {},
   "outputs": [
    {
     "data": {
      "text/plain": [
       "array([[0.24      , 0.22526016],\n",
       "       [0.5       , 0.45518336],\n",
       "       [0.15      , 0.18683647],\n",
       "       ...,\n",
       "       [0.55      , 0.5139721 ],\n",
       "       [0.62      , 0.59565433],\n",
       "       [0.47      , 0.49950004]])"
      ]
     },
     "execution_count": 14,
     "metadata": {},
     "output_type": "execute_result"
    }
   ],
   "source": [
    "datas2"
   ]
  },
  {
   "cell_type": "code",
   "execution_count": 15,
   "metadata": {},
   "outputs": [],
   "source": [
    "x1 = datas1[:,0]\n",
    "y1 = datas1[:,1]\n",
    "\n",
    "x2 = datas2[:,0]\n",
    "y2 = datas2[:,1]"
   ]
  },
  {
   "cell_type": "markdown",
   "metadata": {},
   "source": [
    "### Checking difference on scatter plots and correlations with normalized data using min-max scaling"
   ]
  },
  {
   "cell_type": "code",
   "execution_count": 16,
   "metadata": {},
   "outputs": [
    {
     "data": {
      "text/plain": [
       "SpearmanrResult(correlation=0.8455249805860446, pvalue=0.0)"
      ]
     },
     "execution_count": 16,
     "metadata": {},
     "output_type": "execute_result"
    }
   ],
   "source": [
    "spearmanr(x1,y1)"
   ]
  },
  {
   "cell_type": "code",
   "execution_count": 17,
   "metadata": {},
   "outputs": [
    {
     "data": {
      "text/plain": [
       "SpearmanrResult(correlation=0.9950650428909363, pvalue=0.0)"
      ]
     },
     "execution_count": 17,
     "metadata": {},
     "output_type": "execute_result"
    }
   ],
   "source": [
    "spearmanr(x2,y2)"
   ]
  },
  {
   "cell_type": "code",
   "execution_count": 18,
   "metadata": {},
   "outputs": [
    {
     "data": {
      "text/plain": [
       "<matplotlib.collections.PathCollection at 0x7f97ed659b00>"
      ]
     },
     "execution_count": 18,
     "metadata": {},
     "output_type": "execute_result"
    },
    {
     "data": {
      "image/png": "[encoded data removed]",
      "text/plain": [
       "<Figure size 432x288 with 1 Axes>"
      ]
     },
     "metadata": {
      "needs_background": "light"
     },
     "output_type": "display_data"
    }
   ],
   "source": [
    "plt.scatter(x1,y1) #data1a"
   ]
  },
  {
   "cell_type": "code",
   "execution_count": 19,
   "metadata": {},
   "outputs": [
    {
     "data": {
      "text/plain": [
       "<matplotlib.collections.PathCollection at 0x7f97ed5bc940>"
      ]
     },
     "execution_count": 19,
     "metadata": {},
     "output_type": "execute_result"
    },
    {
     "data": {
      "image/png": "[encoded data removed]",
      "text/plain": [
       "<Figure size 432x288 with 1 Axes>"
      ]
     },
     "metadata": {
      "needs_background": "light"
     },
     "output_type": "display_data"
    }
   ],
   "source": [
    "plt.scatter(x2,y2) #data1a"
   ]
  },
  {
   "cell_type": "markdown",
   "metadata": {},
   "source": [
    "# Train-test split"
   ]
  },
  {
   "cell_type": "code",
   "execution_count": 21,
   "metadata": {},
   "outputs": [
    {
     "name": "stdout",
     "output_type": "stream",
     "text": [
      "0.2\n"
     ]
    }
   ],
   "source": [
    "split_percent = float(input())"
   ]
  },
  {
   "cell_type": "code",
   "execution_count": 29,
   "metadata": {},
   "outputs": [],
   "source": [
    "from sklearn.model_selection import train_test_split\n",
    "\n",
    "X_train1, X_test1, y_train1, y_test1 = train_test_split(x1, y1, test_size=split_percent, random_state=42)\n",
    "\n",
    "X_train2, X_test2, y_train2, y_test2 = train_test_split(x2, y2, test_size=split_percent, random_state=42)\n"
   ]
  },
  {
   "cell_type": "code",
   "execution_count": 30,
   "metadata": {},
   "outputs": [
    {
     "data": {
      "text/plain": [
       "6396"
      ]
     },
     "execution_count": 30,
     "metadata": {},
     "output_type": "execute_result"
    }
   ],
   "source": [
    "len(X_train1) "
   ]
  },
  {
   "cell_type": "code",
   "execution_count": 31,
   "metadata": {},
   "outputs": [
    {
     "data": {
      "text/plain": [
       "1600"
      ]
     },
     "execution_count": 31,
     "metadata": {},
     "output_type": "execute_result"
    }
   ],
   "source": [
    "len(X_test1) "
   ]
  },
  {
   "cell_type": "markdown",
   "metadata": {},
   "source": [
    "# Creating Linear model with SGD "
   ]
  },
  {
   "cell_type": "code",
   "execution_count": 79,
   "metadata": {},
   "outputs": [],
   "source": [
    "from sklearn import linear_model                #0.001\n",
    "clf1 = linear_model.SGDRegressor(max_iter=1000, tol=1e-3,learning_rate='optimal',alpha=0.0001)\n",
    "clf2 = linear_model.SGDRegressor(max_iter=1000, tol=1e-3,learning_rate='optimal',alpha=0.0001)"
   ]
  },
  {
   "cell_type": "code",
   "execution_count": 81,
   "metadata": {},
   "outputs": [
    {
     "data": {
      "text/plain": [
       "SGDRegressor(alpha=0.0001, average=False, early_stopping=False, epsilon=0.1,\n",
       "             eta0=0.01, fit_intercept=True, l1_ratio=0.15,\n",
       "             learning_rate='optimal', loss='squared_loss', max_iter=1000,\n",
       "             n_iter_no_change=5, penalty='l2', power_t=0.25, random_state=None,\n",
       "             shuffle=True, tol=0.001, validation_fraction=0.1, verbose=0,\n",
       "             warm_start=False)"
      ]
     },
     "execution_count": 81,
     "metadata": {},
     "output_type": "execute_result"
    }
   ],
   "source": [
    "clf1.fit(X_train1.reshape(-1, 1),y_train1)\n",
    "clf2.fit(X_train2.reshape(-1, 1),y_train2)"
   ]
  },
  {
   "cell_type": "markdown",
   "metadata": {},
   "source": [
    "### Returning coefficient of determination"
   ]
  },
  {
   "cell_type": "code",
   "execution_count": 83,
   "metadata": {},
   "outputs": [
    {
     "name": "stdout",
     "output_type": "stream",
     "text": [
      "0.6642796226218805\n",
      "0.9876291115135104\n"
     ]
    }
   ],
   "source": [
    "print(clf1.score(X_test1.reshape(-1, 1),y_test1))\n",
    "print(clf2.score(X_test2.reshape(-1, 1),y_test2))"
   ]
  },
  {
   "cell_type": "markdown",
   "metadata": {},
   "source": [
    "### Returning mean squared error"
   ]
  },
  {
   "cell_type": "code",
   "execution_count": 84,
   "metadata": {},
   "outputs": [],
   "source": [
    "from sklearn.metrics import mean_squared_error"
   ]
  },
  {
   "cell_type": "code",
   "execution_count": 87,
   "metadata": {},
   "outputs": [
    {
     "name": "stdout",
     "output_type": "stream",
     "text": [
      "0.000903150232442844\n",
      "0.0007801896697036439\n"
     ]
    }
   ],
   "source": [
    "ypred1 = clf1.predict(X_test1.reshape(-1, 1))\n",
    "ypred2 = clf2.predict(X_test2.reshape(-1, 1))\n",
    "\n",
    "\n",
    "print(mean_squared_error(ypred1, y_test1))\n",
    "print(mean_squared_error(ypred2, y_test2))"
   ]
  },
  {
   "cell_type": "markdown",
   "metadata": {},
   "source": [
    "### Παρατηρούμε πως το μέσο τετραγωνικό σφάλμα είναι πολύ μικρό και για τα 2 dataset."
   ]
  },
  {
   "cell_type": "markdown",
   "metadata": {},
   "source": [
    "## Παρακάτω θα μελετήσουμε το μέσο τετραγωνικό σφάλμα και το coefficient of determination για μη κανονικοποιημένα δεδομένα."
   ]
  },
  {
   "cell_type": "code",
   "execution_count": 117,
   "metadata": {},
   "outputs": [
    {
     "data": {
      "text/plain": [
       "SGDRegressor(alpha=7e-05, average=False, early_stopping=False, epsilon=0.1,\n",
       "             eta0=0.01, fit_intercept=True, l1_ratio=0.15,\n",
       "             learning_rate='optimal', loss='squared_loss', max_iter=1000000,\n",
       "             n_iter_no_change=5, penalty='l2', power_t=0.25, random_state=None,\n",
       "             shuffle=True, tol=1e-15, validation_fraction=0.1, verbose=0,\n",
       "             warm_start=False)"
      ]
     },
     "execution_count": 117,
     "metadata": {},
     "output_type": "execute_result"
    }
   ],
   "source": [
    "datas1 = pd.read_csv('data1a.csv')\n",
    "x1_not_normalized = datas1.loc[:,'likes'].values # .values to get a numpy array so i can reshape\n",
    "y1_not_normalized = datas1.loc[:,'views'].values\n",
    "\n",
    "datas2 = pd.read_csv('data1b.csv')\n",
    "x2_not_normalized = datas2.loc[:,'x'].values\n",
    "y2_not_normalized = datas2.loc[:,'y'].values\n",
    "\n",
    "X_train1, X_test1, y_train1, y_test1 = train_test_split(x1_not_normalized, y1_not_normalized, test_size=split_percent, random_state=42)\n",
    "\n",
    "X_train2, X_test2, y_train2, y_test2 = train_test_split(x2_not_normalized, y2_not_normalized, test_size=split_percent, random_state=42)\n",
    "\n",
    "clf3 = linear_model.SGDRegressor(max_iter=1000000, tol=1e-15,learning_rate='optimal',alpha=0.00007)\n",
    "clf4 = linear_model.SGDRegressor(max_iter=1000000, tol=1e-15,learning_rate='optimal',alpha=0.00007)\n",
    "\n",
    "clf3.fit(X_train1.reshape(-1, 1),y_train1)\n",
    "clf4.fit(X_train2.reshape(-1, 1),y_train2)"
   ]
  },
  {
   "cell_type": "code",
   "execution_count": 118,
   "metadata": {},
   "outputs": [
    {
     "name": "stdout",
     "output_type": "stream",
     "text": [
      "2.582111850219492e+41\n",
      "1.460304581076929e+27\n"
     ]
    }
   ],
   "source": [
    "ypred1 = clf3.predict(X_test1.reshape(-1, 1))\n",
    "ypred2 = clf4.predict(X_test2.reshape(-1, 1))\n",
    "\n",
    "\n",
    "print(mean_squared_error(ypred1, y_test1))\n",
    "print(mean_squared_error(ypred2, y_test2))"
   ]
  },
  {
   "cell_type": "code",
   "execution_count": 119,
   "metadata": {},
   "outputs": [
    {
     "name": "stdout",
     "output_type": "stream",
     "text": [
      "-5.572916002657788e+28\n",
      "-1.82266527190983e+24\n"
     ]
    }
   ],
   "source": [
    "#coeff of determ\n",
    "print(clf3.score(X_test1.reshape(-1, 1),y_test1))\n",
    "print(clf4.score(X_test2.reshape(-1, 1),y_test2))"
   ]
  },
  {
   "cell_type": "markdown",
   "metadata": {},
   "source": [
    "### Παρατηρούμε πως αν δε κάνουμε κανονικοποίηση των δεδομένων τότε το fit του μοντέλου είναι πολύ κακό και παίρνουμε πάρα πολύ άσχημα αποτελέσματα στο mean squared error score."
   ]
  }
 ],
 "metadata": {
  "colab": {
   "name": "Stochastic_Processes_&_Optimization_in_Machine_Learning_(Lab_1_Linear_Regression).ipynb",
   "provenance": []
  },
  "kernelspec": {
   "display_name": "Python 3",
   "language": "python",
   "name": "python3"
  },
  "language_info": {
   "codemirror_mode": {
    "name": "ipython",
    "version": 3
   },
   "file_extension": ".py",
   "mimetype": "text/x-python",
   "name": "python",
   "nbconvert_exporter": "python",
   "pygments_lexer": "ipython3",
   "version": "3.7.3"
  }
 },
 "nbformat": 4,
 "nbformat_minor": 1
}
