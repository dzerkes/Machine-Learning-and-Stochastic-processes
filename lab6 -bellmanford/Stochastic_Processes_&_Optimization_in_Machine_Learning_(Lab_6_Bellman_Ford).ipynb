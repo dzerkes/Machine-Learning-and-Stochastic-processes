{
 "cells": [
  {
   "cell_type": "markdown",
   "metadata": {
    "colab_type": "text",
    "id": "Nn4LlotO0M7n"
   },
   "source": [
    "<b><h1>Bellman-Ford</h1></b>\n",
    "<p align=\"justify\">Δίνεται το παρακάτω σχήμα</p>\n",
    "<img src=\"https://raw.githubusercontent.com/nkostopoulos/StochasticsLabPublic/master/2020/lab6/bellman-topology.png\"></img>"
   ]
  },
  {
   "cell_type": "markdown",
   "metadata": {
    "colab_type": "text",
    "id": "3RKpzNxE1NeN"
   },
   "source": [
    "<b><h3>Ερωτήσεις</h3></b>\n",
    "<ul>\n",
    "<li> 1) Να περιγράψετε, συνοπτικά, τη λειτουργία του αλγορίθμου <i>Bellman-Ford</i>.</li>\n",
    "<li> 2) Να εφαρμόσετε τον αλγόριθμο <i>Bellman-Ford</i> στο γράφο του παραπάνω σχήματος για τις ακμές που συμβολίζονται με μαύρο χρώμα και συνεχή γραμμή. Ως πηγή του αλγορίθμου να θεωρήσετε το <b>AS #2</b>. Ποιο είναι το συνολικό κόστος της διαδρομής από το <b>AS #2</b> στο <b>AS #11</b>; Ποιο είναι το μονοπάτι του δέντρου <i>Bellman-Ford</i> από το <b>AS #2</b> στο <b>AS #11</b>;</li>\n",
    "<li> 3) Το <b>AS #2</b> εξετάζει την προσθήκη μιας ζεύξης είτε με το <b>AS #4</b> ή με το <b>AS #1</b> και αφαιρεί τη ζεύξη 2-3. Οι ζεύξεις αυτές φαίνονται στον παραπάνω γράφο με μαύρες διακεκομμένες γραμμές. Γιατί πιστεύετε ότι χρειάζεται το <b>AS #2</b> την επιπλέον αυτή ζεύξη; Ποια από τις παραπάνω ζεύξεις θα πρέπει να προτιμήσει το <b>AS #2</b> για να είναι μικρότερο το κόστος της διαδρομής από το <b>AS #2</b> μέχρι το <b>AS #11;</b></li>\n",
    "<li> 4) Προσθέστε την κατάλληλη ζεύξη, όπως την προσδιορίσατε στο προηγούμενο ερώτημα. Έστω ότι η ζεύξη <b>AS #2</b> – <b>AS #3</b> παθαίνει μια βλάβη. Ποιο είναι, τώρα, το κόστος της διαδρομής από το <b>AS #2</b> μέχρι το <b>AS #11</b>; Πόσο επιβαρύνθηκε σε σχέση με το δεύτερο ερώτημα;</li>\n",
    "<li> 5) Έστω ότι αποκαθίσταται η βλάβη. Το <b>AS #12</b> προσφέρεται να ενώσει τα <b>AS #10</b> και <b>AS #11</b> απ’ ευθείας στο <b>AS #3</b>. Το <b>AS #12</b> μαζί με τις νέες ακμές που θα προστεθούν φαίνονται με κόκκινο χρώμα στον παραπάνω γράφο. Πόσο θα βελτιωθεί το συνολικό κόστος <b>AS #2</b> – <b>AS #11</b>; </li>\n",
    "</ul>\n",
    "<br>\n",
    "<i><p align=\"justify\">Για την επιλύση της άσκησης θα χρησιμοποιήσετε τη βιλβιοθήκη της Python <a href=\"https://pypi.org/project/bellmanford/\">bellmanford</a></p></i>"
   ]
  },
  {
   "cell_type": "markdown",
   "metadata": {},
   "source": [
    "__1)__ Περιγραφή αλγορίθμου Bellman-Ford"
   ]
  },
  {
   "cell_type": "markdown",
   "metadata": {},
   "source": [
    " Ο αλγόριθμος bellman-ford έχει ως είσοδο ένα γράφημα με αρχικό κόμβο και τελικό κόμβο και επιστρέφει την μικρότερη απόσταση από όλους τους πιθανούς συνδυασμούς από τον αρχικό κόμβο στον τελικό. Αν υπάρχει αρνητικό path λόγω αρνητικών weight τότε επιστρέφει το κόστος του αρνητικού κύκλου που βρέθηκε. Στη δική μας άσκηση όμως δεν υπάρχει τέτοια περίπτωση.\n",
    " \n",
    " Τα βήματα του αλγορίθμου έχουν ως εξής:\n",
    " \n",
    "1) αρχικοποίηση των αποστάσεων από την πηγή σε όλες τις κορυφές ως άπειρο και την απόσταση από την ίδια την πηγή ως 0. Επομένως, θα έχουμε μια λίστα μήκους όσο ο αριθμός των κόμβων, όπου θα έχει 0 ο αρχικός source κόμβος και άπειρο όλοι οι άλλοι.\n",
    "\n",
    "\n",
    "2) Αυτό το βήμα υπολογίζει τις μικρότερες αποστάσεις. θα τρέξουμε | V | -1 φορές όπου | V | είναι ο αριθμός κορυφών σε δεδομένο γράφο.\n",
    "\n",
    "    … ..Α) Κάνουμε το παρακάτω για κάθε άκμή u-v\n",
    "                 Εάν dist [v]> dist [u] + βάρος της ακμής uv, τότε ενημερώστε dist [v]\n",
    "                     dist [v] = dist [u] + βάρος της ακμής uv\n",
    "                   \n",
    "    .....Ο αλγόριθμος τερματίζει όταν για κάθε κόμβο Dist(v)_step_N = Dist(v)_step_N+1\n",
    "    \n",
    "  \n",
    "    \n",
    "3)  Αυτό το βήμα αναφέρει εάν υπάρχει αρνητικός κύκλος βάρους στο γράφημα. (__Δεν χρειάζεται στην άσκηση__)\n",
    "\n",
    "        Για κάθε άκρη u-v\n",
    "            Εάν dist [v]> dist [u] + βάρος της ακμής uv, τότε το “Graph περιέχει αρνητικό κύκλο βάρους”\n",
    "            \n",
    "To τρίτο βήμα στην άσκηση τη δική μας δε μας ενδιαφέρει. Η ιδέα του βήματος 3 είναι, το βήμα 2 εγγυάται τις μικρότερες αποστάσεις εάν το γράφημα δεν περιέχει αρνητικό κύκλο βάρους. Εάν επαναλάβουμε τον αλγόριθμο για όλες τις άκρες ακόμα μια φορά και πάρουμε μια μικρότερη διαδρομή για οποιαδήποτε κορυφή, τότε υπάρχει ένας αρνητικός κύκλος βάρους.\n",
    "\n",
    "__Όταν σταματήσει ο αλγόριθμος  προσδιορίζουμε τους βέλτιστους δρόμους από όλα τα nodes προς τον προορισμό-source σύμφωνα με τις αποφάσεις 𝑃(𝑛) (𝑖) σαν Shortest Path Tree με ρίζα τον τελικό κόμβο - target node.__\n",
    "\n",
    "ο αλγόριθμος υπολογίζει τις μικρότερες διαδρομές με τρόπο από κάτω προς τα πάνω. Υπολογίζει πρώτα τις μικρότερες αποστάσεις που έχουν το πολύ ένα άκρο στο μονοπάτι. Στη συνέχεια, υπολογίζει τις μικρότερες διαδρομές με το πολύ 2 άκρα και ούτω καθεξής. Μετά την 1η επανάληψη του εξωτερικού βρόχου, υπολογίζονται οι μικρότερες διαδρομές με τις περισσότερες άκρες. Μπορεί να υπάρχει μέγιστο | V | - 1 άκρη σε οποιαδήποτε απλή διαδρομή, γι 'αυτό τρέχει ο εξωτερικός βρόχος | v | - 1 φορές. Η ιδέα είναι, υποθέτοντας ότι δεν υπάρχει αρνητικός κύκλος βάρους, εάν έχουμε υπολογίσει τις μικρότερες διαδρομές με τις περισσότερες άκρες, τότε μια επανάληψη σε όλες τις άκρες εγγυάται την παροχή μικρότερης διαδρομής με τις άκρες το πολύ (i + 1)"
   ]
  },
  {
   "cell_type": "markdown",
   "metadata": {},
   "source": [
    "Παρακάτω για την λύση των ερωτημάτων φτιάχνουμε νέο graph για κάθε ερώτημα. Δεν είναι αναγκαίο απλα για να είναι διαφοροποιημένα και με σχόλια στον κώδικα στις αλλαγές τον σημείων για το κάθε ερώτημα."
   ]
  },
  {
   "cell_type": "code",
   "execution_count": 1,
   "metadata": {},
   "outputs": [],
   "source": [
    "import networkx as nx\n",
    "import bellmanford as bf # bf.bellman_ford(G, source, target, weight='weight')"
   ]
  },
  {
   "cell_type": "markdown",
   "metadata": {},
   "source": [
    "__2)__ Συνολικό κόστος 22 , path: 2->3->5->7->8->9->11"
   ]
  },
  {
   "cell_type": "code",
   "execution_count": 5,
   "metadata": {},
   "outputs": [
    {
     "name": "stdout",
     "output_type": "stream",
     "text": [
      "(17, ['A', 'Z', 'C'], False)\n"
     ]
    }
   ],
   "source": [
    "G2 = nx.Graph()\n",
    "\n",
    "G2.add_edge('A', 'D', weight=15)\n",
    "G2.add_edge('A', 'Z', weight=9)\n",
    "G2.add_edge('D', 'B', weight=7)\n",
    "G2.add_edge('D', 'Z', weight=10)\n",
    "G2.add_edge('Z', 'B', weight=7)\n",
    "G2.add_edge('Z', 'C', weight=8)\n",
    "G2.add_edge('B', 'C', weight=3)\n",
    "\n",
    "\n",
    "\n",
    "solution = bf.bellman_ford(G2, source=\"A\", target=\"C\", weight='weight')\n",
    "print(solution) # false for not finding a negative cycle, 22 length , node list is the shortest path"
   ]
  },
  {
   "cell_type": "markdown",
   "metadata": {},
   "source": [
    "__3)__  \n",
    "\n",
    "ΣΗΜΕΙΩΣΗ: Αφαιρούμε τη ζεύξη 2-3 για να δοκιμάσουμε τις άλλες.\n",
    "\n",
    "Παρατηρούμε ότι προτίμησε τη ζεύξη 2-1 γιατί μπορεί να έχει μεγαλύτερο κόστος αλλά στο συνολικό path συμφέρει περισσότερο. Καθώς, αν πάμε από την ζεύξη 2-4 θα υποστούμε στη συνέχεια το βάρος της ζεύξης 4-5 που είναι πολύ μεγάλο , συγκεκριμένα 20."
   ]
  },
  {
   "cell_type": "code",
   "execution_count": 2,
   "metadata": {},
   "outputs": [
    {
     "name": "stdout",
     "output_type": "stream",
     "text": [
      "(32, ['AS #2', 'AS #1', 'AS #3', 'AS #5', 'AS #7', 'AS #8', 'AS #9', 'AS #11'], False)\n"
     ]
    }
   ],
   "source": [
    "G3 = nx.Graph()\n",
    "\n",
    "G3.add_edge('AS #1', 'AS #3', weight=4)\n",
    "#G3.add_edge('AS #2', 'AS #3', weight=4) removing that edge\n",
    "G3.add_edge('AS #4', 'AS #5', weight=20)\n",
    "G3.add_edge('AS #5', 'AS #3', weight=2)\n",
    "G3.add_edge('AS #5', 'AS #6', weight=5)\n",
    "G3.add_edge('AS #5', 'AS #7', weight=2)\n",
    "G3.add_edge('AS #6', 'AS #7', weight=4)\n",
    "G3.add_edge('AS #7', 'AS #8', weight=3)\n",
    "G3.add_edge('AS #8', 'AS #9', weight=7)\n",
    "G3.add_edge('AS #8', 'AS #13', weight=4)\n",
    "G3.add_edge('AS #9', 'AS #13', weight=5)\n",
    "G3.add_edge('AS #9', 'AS #10', weight=3)\n",
    "G3.add_edge('AS #9', 'AS #11', weight=4)\n",
    "## plus new connections ##\n",
    "G3.add_edge('AS #2', 'AS #4', weight=4)\n",
    "G3.add_edge('AS #2', 'AS #1', weight=10)\n",
    "\n",
    "solution = bf.bellman_ford(G3, source=\"AS #2\", target=\"AS #11\", weight='weight')\n",
    "print(solution) # false for not finding a negative cycle, 22 length , node list is the shortest path"
   ]
  },
  {
   "cell_type": "markdown",
   "metadata": {},
   "source": [
    "__4)__ Παρατηρούμε επιβάρυνση ίση με 18. Πριν είχαμε μήκος 22 και τώρα 40."
   ]
  },
  {
   "cell_type": "code",
   "execution_count": 13,
   "metadata": {},
   "outputs": [
    {
     "name": "stdout",
     "output_type": "stream",
     "text": [
      "(40, ['AS #2', 'AS #4', 'AS #5', 'AS #7', 'AS #8', 'AS #9', 'AS #11'], False)\n"
     ]
    }
   ],
   "source": [
    "G4 = nx.Graph()\n",
    "\n",
    "G4.add_edge('AS #1', 'AS #3', weight=4)\n",
    "#removing the 2-3 edge cause of an error - > G4.remove_edge('AS #2', 'AS #3)\n",
    "#G4.add_edge('AS #2', 'AS #3', weight=4) \n",
    "G4.add_edge('AS #4', 'AS #5', weight=20)\n",
    "G4.add_edge('AS #5', 'AS #3', weight=2)\n",
    "G4.add_edge('AS #5', 'AS #6', weight=5)\n",
    "G4.add_edge('AS #5', 'AS #7', weight=2)\n",
    "G4.add_edge('AS #6', 'AS #7', weight=4)\n",
    "G4.add_edge('AS #7', 'AS #8', weight=3)\n",
    "G4.add_edge('AS #8', 'AS #9', weight=7)\n",
    "G4.add_edge('AS #8', 'AS #13', weight=4)\n",
    "G4.add_edge('AS #9', 'AS #13', weight=5)\n",
    "G4.add_edge('AS #9', 'AS #10', weight=3)\n",
    "G4.add_edge('AS #9', 'AS #11', weight=4)\n",
    "## plus best connection from 3) ##\n",
    "G4.add_edge('AS #2', 'AS #4', weight=4)\n",
    "\n",
    "\n",
    "solution = bf.bellman_ford(G4, source=\"AS #2\", target=\"AS #11\", weight='weight')\n",
    "print(solution) # false for not finding a negative cycle, 22 length , node list is the shortest path"
   ]
  },
  {
   "cell_type": "markdown",
   "metadata": {},
   "source": [
    "__5)__ Παρατηρούμε ότι με τις νέες ζεύξεις , η ζεύξη 3-12 και 12-11 μας επιταχύνει πάρα πολύ τη διαδικασία. Καταλήγουμε σε βελτιστο path μήκους 10 , το οποίο είναι το καλύτερο που λάβαμε.\n",
    "\n",
    "path: 2->3->12->11\n"
   ]
  },
  {
   "cell_type": "code",
   "execution_count": 14,
   "metadata": {},
   "outputs": [
    {
     "name": "stdout",
     "output_type": "stream",
     "text": [
      "(10, ['AS #2', 'AS #3', 'AS #12', 'AS #11'], False)\n"
     ]
    }
   ],
   "source": [
    "G5 = nx.Graph()\n",
    "\n",
    "G5.add_edge('AS #1', 'AS #3', weight=4)\n",
    "#fixing the edge that had an error in Q4\n",
    "G5.add_edge('AS #2', 'AS #3', weight=4)\n",
    "G5.add_edge('AS #4', 'AS #5', weight=20)\n",
    "G5.add_edge('AS #5', 'AS #3', weight=2)\n",
    "G5.add_edge('AS #5', 'AS #6', weight=5)\n",
    "G5.add_edge('AS #5', 'AS #7', weight=2)\n",
    "G5.add_edge('AS #6', 'AS #7', weight=4)\n",
    "G5.add_edge('AS #7', 'AS #8', weight=3)\n",
    "G5.add_edge('AS #8', 'AS #9', weight=7)\n",
    "G5.add_edge('AS #8', 'AS #13', weight=4)\n",
    "G5.add_edge('AS #9', 'AS #13', weight=5)\n",
    "G5.add_edge('AS #9', 'AS #10', weight=3)\n",
    "G5.add_edge('AS #9', 'AS #11', weight=4)\n",
    "## plus best connection from 3) ##\n",
    "G5.add_edge('AS #2', 'AS #4', weight=4)\n",
    "## plus new edges of as #12\n",
    "G5.add_edge('AS #12', 'AS #10', weight=2)\n",
    "G5.add_edge('AS #12', 'AS #3', weight=2)\n",
    "G5.add_edge('AS #12', 'AS #11', weight=4)\n",
    "\n",
    "solution = bf.bellman_ford(G5, source=\"AS #2\", target=\"AS #11\", weight='weight')\n",
    "print(solution) # false for not finding a negative cycle, 22 length , node list is the shortest path"
   ]
  }
 ],
 "metadata": {
  "colab": {
   "collapsed_sections": [],
   "name": "Stochastic_Processes_&_Optimization_in_Machine_Learning_(Lab_6_Bellman_Ford).ipynb",
   "provenance": []
  },
  "kernelspec": {
   "display_name": "Python 3",
   "language": "python",
   "name": "python3"
  },
  "language_info": {
   "codemirror_mode": {
    "name": "ipython",
    "version": 3
   },
   "file_extension": ".py",
   "mimetype": "text/x-python",
   "name": "python",
   "nbconvert_exporter": "python",
   "pygments_lexer": "ipython3",
   "version": "3.7.3"
  }
 },
 "nbformat": 4,
 "nbformat_minor": 1
}
