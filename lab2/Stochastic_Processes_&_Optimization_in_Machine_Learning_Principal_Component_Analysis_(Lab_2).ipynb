{
 "cells": [
  {
   "cell_type": "markdown",
   "metadata": {
    "colab_type": "text",
    "id": "s_xjbOW-TkC3"
   },
   "source": [
    "<h1><b><i>Principal Component Analysis</i> (<i>PCA</i>) </b></h1>\n",
    "\n",
    "<p>Στην άσκηση αυτή θα μελετήσετε τον αλγόριθμο <b><i>ανάλυσης σε κύριες συνιστώσες</i></b> (<b><i>Principal Component Analysis</i></b>, <b><i>PCA</i></b>), υλοποιημένο σύμφωνα με τη <b><i>μέθοδο συνδιακύμανσης</i></b> (<b><i>covariance method</i></b>). Για να κατανοήσετε τη χρησιμότητα της μεθόδου θα εκπαιδεύσετε και θα αξιολογήσετε την ακρίβεια ενός μοντέλου <b><i>logistic regression</i></b> για ένα dataset πριν και μετά την εφαρμογή του αλγορίθμου <b><i>PCA</i></b>. Περισσότερες πληροφορίες για τη μέθοδο αυτή μπορείτε να αναζητήσετε <a href=\"https://ourarchive.otago.ac.nz/handle/10523/7534\">εδώ</a>.</p>\n",
    "\n",
    "<p>Η άσκηση περιλαμβάνει <b><i>δύο</i></b> προγράμματα <i>Python</i>: (a) το πρώτο δέχεται ένα dataset σε μορφή .<i>csv</i>, εφαρμόζει τον αλγόριθμο <b><i>PCA</i></b> και δημιουργεί το αρχείο <b><i>foo.csv</i></b> με το μετασχηματισμένο dataset, όπως προκύπτει από τις κύριες συνιστώσες που επέλεξε ο χρήστης να διατηρήσει, (b) το δεύτερο δέχεται ένα αρχείο σε μορφή .<i>csv</i>, διαχωρίζει το dataset σε <i>training</i> και <i>test set</i>, εκπαιδεύει ένα μοντέλο <b><i>logistic regression</i></b>, χρησιμοποιώντας το <i>training set</i> και υπολογίζει τον αριθμό των σφαλμάτων του μοντέλου πάνω στο <i>test set</i>.</p>\n",
    "\n",
    "<p>Το dataset που θα χρησιμοποιήσετε παρέχεται σε δύο μορφές: (a) <b><i><a href=\"https://raw.githubusercontent.com/nkostopoulos/StochasticsLabPublic/master/2020/lab2/demo3a.csv\">demo3a.csv</a></i></b> και (b) <b><i><a href=\"https://github.com/nkostopoulos/StochasticsLabPublic/blob/master/2020/lab2/demo3b.csv\">demo3b.csv</a></i></b>, το οποίο δεν περιλαμβάνει την πρώτη στήλη του <b><i><a href=\"https://raw.githubusercontent.com/nkostopoulos/StochasticsLabPublic/master/2020/lab2/demo3a.csv\">demo3a.csv</a></i></b>, δηλαδή τα <i>labels</i> που αντιστοιχούν σε κάθε είσοδο. Τα datasets αυτά αποτελούν απλοποιημένη μορφή του dataset που μπορεί να βρεθεί <a href=\"https://archive.ics.uci.edu/ml/datasets/wine\">εδώ</a>.</p>\n",
    "\n",
    "<h3><b><i>Ανάλυση σε Κύριες Συνιστώσες</i></b></h3>\n",
    "<p>Αρχικά, θα φορτώσετε τις βιβλιοθήκες που απαιτούνται για το πρόγραμμα που θα αναλύσει το dataset <b><i><a href=\"https://github.com/nkostopoulos/StochasticsLabPublic/blob/master/2020/lab2/demo3b.csv\">demo3b.csv</a></i></b> στις κύριες συνιστώσες του.</p>\n",
    "\n",
    "\n"
   ]
  },
  {
   "cell_type": "code",
   "execution_count": 15,
   "metadata": {
    "colab": {
     "base_uri": "https://localhost:8080/",
     "height": 34
    },
    "colab_type": "code",
    "id": "KDcaQZ2ofeum",
    "outputId": "68e1a244-2720-43f2-d7f0-524f5ef882ef"
   },
   "outputs": [],
   "source": [
    "#https://machinelearningmastery.com/calculate-principal-component-analysis-scratch-python/\n",
    "from numpy import genfromtxt\n",
    "from numpy import mean\n",
    "from numpy import cov\n",
    "from numpy.linalg import eig\n",
    "import numpy as np"
   ]
  },
  {
   "cell_type": "markdown",
   "metadata": {
    "colab_type": "text",
    "id": "pMilxe9Uf-WT"
   },
   "source": [
    "<p>Στη συνέχεια, θα φορτώσετε το dataset <b><i></i></b></p>"
   ]
  },
  {
   "cell_type": "code",
   "execution_count": 16,
   "metadata": {
    "colab": {},
    "colab_type": "code",
    "id": "k92Gv9dwftZp"
   },
   "outputs": [],
   "source": [
    "data = genfromtxt('https://raw.githubusercontent.com/nkostopoulos/StochasticsLabPublic/master/2020/lab2/demo3b.csv', delimiter=',')"
   ]
  },
  {
   "cell_type": "markdown",
   "metadata": {
    "colab_type": "text",
    "id": "ydl-AyxahG2b"
   },
   "source": [
    "<p>Έπειτα, θα υπολογίσετε το μέσο όρο κάθε στήλης (feature) του dataset και θα κανονικοποιήσετε κάθε feature με αυτόν</p>"
   ]
  },
  {
   "cell_type": "code",
   "execution_count": 17,
   "metadata": {
    "colab": {},
    "colab_type": "code",
    "id": "QU4TQXw2g4xF"
   },
   "outputs": [],
   "source": [
    "M = mean(data.T, axis=1)\n",
    "data_normal = data - M"
   ]
  },
  {
   "cell_type": "code",
   "execution_count": 28,
   "metadata": {},
   "outputs": [
    {
     "data": {
      "text/plain": [
       "(130, 13)"
      ]
     },
     "execution_count": 28,
     "metadata": {},
     "output_type": "execute_result"
    }
   ],
   "source": [
    "data_normal.shape"
   ]
  },
  {
   "cell_type": "code",
   "execution_count": 37,
   "metadata": {},
   "outputs": [
    {
     "data": {
      "image/png": "[encoded data removed]",
      "text/plain": [
       "<Figure size 432x288 with 1 Axes>"
      ]
     },
     "metadata": {
      "needs_background": "light"
     },
     "output_type": "display_data"
    }
   ],
   "source": [
    "import matplotlib.pyplot as plt\n",
    "plt.scatter(data[:,0],data[:,1])\n",
    "plt.show()"
   ]
  },
  {
   "cell_type": "code",
   "execution_count": 40,
   "metadata": {},
   "outputs": [
    {
     "data": {
      "image/png": "[encoded data removed]",
      "text/plain": [
       "<Figure size 432x288 with 1 Axes>"
      ]
     },
     "metadata": {
      "needs_background": "light"
     },
     "output_type": "display_data"
    }
   ],
   "source": [
    "#centered when abstracted the mean.\n",
    "plt.scatter(data_normal[:,0],data_normal[:,1])\n",
    "plt.show()"
   ]
  },
  {
   "cell_type": "markdown",
   "metadata": {
    "colab_type": "text",
    "id": "BYWD8ozQh-h8"
   },
   "source": [
    "<p>Στη συνέχεια, θα υπολογίσετε το <b><i>πίνακα συνδιακύμανσης</i></b> (<b><i>covariance matrix</i></b>) για το dataset</p>"
   ]
  },
  {
   "cell_type": "code",
   "execution_count": 18,
   "metadata": {
    "colab": {
     "base_uri": "https://localhost:8080/",
     "height": 918
    },
    "colab_type": "code",
    "id": "N3B6Pw6diHxe",
    "outputId": "f77a72d3-6b85-454f-e023-66ed6ca7825f"
   },
   "outputs": [
    {
     "name": "stdout",
     "output_type": "stream",
     "text": [
      "The covariance matrix of the normalized data is the following: \n",
      "[[ 7.89911157e-01  1.64350328e-02  5.03965534e-02 -1.39557561e+00\n",
      "   4.51870543e+00  2.35123047e-01  3.56524806e-01 -2.92133512e-02\n",
      "   9.15320632e-02  1.07205560e+00  3.92238044e-03  1.22678110e-01\n",
      "   2.36909466e+02]\n",
      " [ 1.64350328e-02  7.74344335e-01  3.18039952e-02  4.24165474e-01\n",
      "  -2.21434109e-01  1.44160704e-02  3.75581395e-02  5.34385808e-03\n",
      "   6.47891175e-02 -1.54797734e-01 -6.06599761e-02  6.96007454e-02\n",
      "  -3.33629219e+01]\n",
      " [ 5.03965534e-02  3.18039952e-02  8.83052117e-02  3.73006798e-01\n",
      "   1.40136434e+00  4.12452594e-02  8.26573643e-02  5.81539654e-03\n",
      "   1.24709839e-02  1.22397007e-01  2.06346094e-03  3.02871079e-02\n",
      "   3.18556160e+01]\n",
      " [-1.39557561e+00  4.24165474e-01  3.73006798e-01  1.15631181e+01\n",
      "  -6.46193798e+00 -4.24464222e-01 -4.52046512e-01  1.24282469e-01\n",
      "  -1.77910614e-01 -2.39565069e+00 -2.05387955e-02 -1.02069171e-03\n",
      "  -5.11872284e+02]\n",
      " [ 4.51870543e+00 -2.21434109e-01  1.40136434e+00 -6.46193798e+00\n",
      "   2.36586822e+02  2.55096899e+00  2.89720930e+00 -3.57263566e-01\n",
      "   2.30737209e+00  8.63970543e+00  1.85996899e-01  9.56255814e-01\n",
      "   2.31515659e+03]\n",
      " [ 2.35123047e-01  1.44160704e-02  4.12452594e-02 -4.24464222e-01\n",
      "   2.55096899e+00  2.97453936e-01  3.40611628e-01 -2.64587657e-02\n",
      "   1.30694305e-01  5.23527370e-01 -7.63816339e-04  1.28195856e-01\n",
      "   9.73171139e+01]\n",
      " [ 3.56524806e-01  3.75581395e-02  8.26573643e-02 -4.52046512e-01\n",
      "   2.89720930e+00  3.40611628e-01  5.44297674e-01 -2.88767442e-02\n",
      "   2.16111628e-01  8.48084496e-01 -8.24186047e-04  1.88436434e-01\n",
      "   1.41942171e+02]\n",
      " [-2.92133512e-02  5.34385808e-03  5.81539654e-03  1.24282469e-01\n",
      "  -3.57263566e-01 -2.64587657e-02 -2.88767442e-02  1.18999463e-02\n",
      "  -1.98501670e-02 -4.97212642e-02  9.44753727e-04 -2.42901670e-02\n",
      "  -1.26918819e+01]\n",
      " [ 9.15320632e-02  6.47891175e-02  1.24709839e-02 -1.77910614e-01\n",
      "   2.30737209e+00  1.30694305e-01  2.16111628e-01 -1.98501670e-02\n",
      "   2.91137680e-01  2.39266834e-01 -9.77493143e-04  8.78196959e-02\n",
      "   5.22928014e+01]\n",
      " [ 1.07205560e+00 -1.54797734e-01  1.22397007e-01 -2.39565069e+00\n",
      "   8.63970543e+00  5.23527370e-01  8.48084496e-01 -4.97212642e-02\n",
      "   2.39266834e-01  2.64316778e+00  2.68330829e-03  1.60809159e-01\n",
      "   4.44340177e+02]\n",
      " [ 3.92238044e-03 -6.06599761e-02  2.06346094e-03 -2.05387955e-02\n",
      "   1.85996899e-01 -7.63816339e-04 -8.24186047e-04  9.44753727e-04\n",
      "  -9.77493143e-04  2.68330829e-03  2.84562519e-02 -8.13836136e-03\n",
      "   6.93777746e+00]\n",
      " [ 1.22678110e-01  6.96007454e-02  3.02871079e-02 -1.02069171e-03\n",
      "   9.56255814e-01  1.28195856e-01  1.88436434e-01 -2.42901670e-02\n",
      "   8.78196959e-02  1.60809159e-01 -8.13836136e-03  2.25782952e-01\n",
      "   3.83903673e+01]\n",
      " [ 2.36909466e+02 -3.33629219e+01  3.18556160e+01 -5.11872284e+02\n",
      "   2.31515659e+03  9.73171139e+01  1.41942171e+02 -1.26918819e+01\n",
      "   5.22928014e+01  4.44340177e+02  6.93777746e+00  3.83903673e+01\n",
      "   1.24265433e+05]]\n"
     ]
    }
   ],
   "source": [
    "covariance = cov(data_normal.T)\n",
    "print(\"The covariance matrix of the normalized data is the following: \")\n",
    "print(covariance)"
   ]
  },
  {
   "cell_type": "markdown",
   "metadata": {
    "colab_type": "text",
    "id": "rFxfxGxbiPsm"
   },
   "source": [
    "<p>Το επόμενο βήμα είναι να υπολογίσετε τις <b><i>ιδιοτιμές</i></b> (<b><i>eigenvalues</i></b>) και τα <b><i>ιδιοδιανύσματα</i></b> (<b><i>eigenvectors</i></b>) του dataset.</p>"
   ]
  },
  {
   "cell_type": "code",
   "execution_count": 49,
   "metadata": {
    "colab": {
     "base_uri": "https://localhost:8080/",
     "height": 102
    },
    "colab_type": "code",
    "id": "nyqu1myLieP3",
    "outputId": "814fe6ee-0258-4232-82f4-0a35b7e3d06a"
   },
   "outputs": [
    {
     "name": "stdout",
     "output_type": "stream",
     "text": [
      "The eigenvalues of the normalized data are the following: \n",
      "(13,)\n",
      "[1.24313073e+05 1.93456026e+02 9.50168321e+00 1.32500169e+00\n",
      " 8.10595669e-01 4.51081713e-01 2.69157831e-01 1.60993380e-01\n",
      " 1.11100343e-01 6.13399000e-03 2.19782528e-02 3.20312852e-02\n",
      " 5.87421686e-02]\n"
     ]
    }
   ],
   "source": [
    "values, vectors = eig(covariance)\n",
    "print(\"The eigenvalues of the normalized data are the following: \")\n",
    "print(values.shape)\n",
    "print(values)"
   ]
  },
  {
   "cell_type": "code",
   "execution_count": 24,
   "metadata": {},
   "outputs": [
    {
     "data": {
      "text/plain": [
       "(13, 13)"
      ]
     },
     "execution_count": 24,
     "metadata": {},
     "output_type": "execute_result"
    }
   ],
   "source": [
    "vectors.shape"
   ]
  },
  {
   "cell_type": "markdown",
   "metadata": {
    "colab_type": "text",
    "id": "51_NKEP2imoW"
   },
   "source": [
    "<p>Στη συνέχεια, θα επιλέξετε τις πιο σημαντικές <b><i>ιδιοτιμές</i></b> και θα προσαρμόσετε αντίστοιχα τα <b><i>ιδιοδιανύσματα</i></b> του dataset.</p>"
   ]
  },
  {
   "cell_type": "code",
   "execution_count": 20,
   "metadata": {
    "colab": {
     "base_uri": "https://localhost:8080/",
     "height": 272
    },
    "colab_type": "code",
    "id": "Dee3ENf1i4Lx",
    "outputId": "7617d250-65bd-4ab0-a4d9-2dea8c9dfd03"
   },
   "outputs": [
    {
     "name": "stdout",
     "output_type": "stream",
     "text": [
      "The most important eigenvalues are the following: \n",
      "[1.24313073e+05 1.93456026e+02 9.50168321e+00]\n",
      "The most important eigenvectors are the following: \n",
      "[[-1.90615566e-03 -4.75319302e-04 -4.70065618e-02  2.25255930e-01\n",
      "   9.82089183e-02 -2.20758056e-01 -8.52483156e-01 -3.65140031e-01\n",
      "  -1.65925760e-01 -5.62139324e-03 -2.07811823e-02  2.48378617e-02\n",
      "  -8.18675258e-04]\n",
      " [ 2.68379014e-04 -2.11118304e-03  3.21935310e-02  1.25115825e-01\n",
      "   9.16405147e-01 -3.07909300e-01  1.86306127e-01  7.26209733e-02\n",
      "  -1.81047372e-02 -1.16925805e-02  8.44468784e-02 -2.41209813e-02\n",
      "   2.31770029e-02]\n",
      " [-2.56407459e-04 -4.21644285e-03  5.19948847e-02  4.67286333e-02\n",
      "   2.01302236e-02 -3.45064791e-03 -1.57617050e-02  1.52544206e-01\n",
      "  -7.18891029e-02 -1.38330530e-01 -6.68720003e-02  6.75337422e-01\n",
      "  -6.97354965e-01]]\n"
     ]
    }
   ],
   "source": [
    "new_values = values[0:3]\n",
    "print(\"The most important eigenvalues are the following: \")\n",
    "print(new_values)\n",
    "new_vectors = vectors[0:3]\n",
    "print(\"The most important eigenvectors are the following: \")\n",
    "print(new_vectors)"
   ]
  },
  {
   "cell_type": "code",
   "execution_count": 30,
   "metadata": {},
   "outputs": [
    {
     "name": "stdout",
     "output_type": "stream",
     "text": [
      "(3, 13)\n"
     ]
    }
   ],
   "source": [
    "print(new_vectors.shape)"
   ]
  },
  {
   "cell_type": "code",
   "execution_count": 31,
   "metadata": {},
   "outputs": [
    {
     "name": "stdout",
     "output_type": "stream",
     "text": [
      "(13, 130)\n"
     ]
    }
   ],
   "source": [
    "print(data_normal.T.shape)"
   ]
  },
  {
   "cell_type": "markdown",
   "metadata": {
    "colab_type": "text",
    "id": "6IVdHr-Ti-O5"
   },
   "source": [
    "<p>Τώρα, θα εφαρμόσετε τα νέα <b><i>ιδιοδιανύσματα</i></b> στο παλιό dataset για να πάρετε το νέο, μειωμένο σε μέγεθος dataset.</p>"
   ]
  },
  {
   "cell_type": "code",
   "execution_count": 35,
   "metadata": {
    "colab": {},
    "colab_type": "code",
    "id": "HtJouKmSjPbD"
   },
   "outputs": [
    {
     "name": "stdout",
     "output_type": "stream",
     "text": [
      "(3, 130)\n"
     ]
    }
   ],
   "source": [
    "new_data = new_vectors.dot(data_normal.T)\n",
    "print(new_data.shape)"
   ]
  },
  {
   "cell_type": "code",
   "execution_count": 36,
   "metadata": {},
   "outputs": [
    {
     "name": "stdout",
     "output_type": "stream",
     "text": [
      "(130, 3)\n"
     ]
    }
   ],
   "source": [
    "print(new_data.T.shape)"
   ]
  },
  {
   "cell_type": "markdown",
   "metadata": {
    "colab_type": "text",
    "id": "o5B93KQ3jTpf"
   },
   "source": [
    "<p>Να αποθηκεύσετε το νέο dataset σε ένα αρχείο <i>csv</i>.</p>"
   ]
  },
  {
   "cell_type": "code",
   "execution_count": 22,
   "metadata": {
    "colab": {},
    "colab_type": "code",
    "id": "W1uY6kFWjflf"
   },
   "outputs": [],
   "source": [
    "np.savetxt(\"foo.csv\", new_data.T, delimiter=\",\")"
   ]
  },
  {
   "cell_type": "markdown",
   "metadata": {
    "colab_type": "text",
    "id": "8u085fpWjnPD"
   },
   "source": [
    "<h4><b><i>Ερωτήσεις</i></b></h4>\n",
    "<ul>\n",
    "<li>Να μελετήσετε το παραπάνω πρόγραμμα και να περιγράψετε, σύντομα, τα βήματα που ακολουθεί ο αλγόριθμος <b><i>PCA</i></b>, υλοποιημένος με τη μέθοδο <b><i>covariance</i></b>. Να συμπεριλάβετε και τις μαθηματικές πράξεις.</li>\n",
    "<li>Να εφαρμόσετε τον αλγόριθμο <b><i>PCA</i></b> πάνω στα δεδομένα του αρχείου <i><a href=\"https://github.com/nkostopoulos/StochasticsLabPublic/blob/master/2020/lab2/demo3b.csv\">demo3b.csv</a></i>. Στη συνέχεια, να καταγράψετε τον <i>πίνακα συνδιακύμανσης</i> του dataset και τις ιδιοτιμές του πίνακα αυτού. Τι υποδηλώνουν οι θετικές και τι οι αρνητικές τιμές του <i>πίνακα συνδιακύμανσης</i>; Να διατάξετε τις <i>ιδιοτιμές</i> σε φθίνουσα σειρά. Τι παρατηρείτε για τις τρεις πρώτες σε σχέση με τις υπόλοιπες; Πόσες <i>κύριες συνιστώσες</i> επιλέγει να διατηρήσει ο αλγόριθμος;</li>\n",
    "</ul>"
   ]
  },
  {
   "cell_type": "markdown",
   "metadata": {},
   "source": [
    "### Περιγραφή υλοποίησης αλγορίθμου PCA.\n",
    "\n",
    "https://ourarchive.otago.ac.nz/bitstream/handle/10523/7534/OUCS-2002-12.pdf?sequence=1&isAllowed=y"
   ]
  },
  {
   "cell_type": "markdown",
   "metadata": {},
   "source": [
    "ΒΗΜΑ 1 : διαβάζουμε τα δεδομένα μας\n",
    "\n",
    "ΒΗΜΑ 2 : αφαιρούμε το μέσο από την κάθε διάσταση. (Χ - Χmean) \n",
    "\n",
    "ΒΗΜΑ 3 : υπολογισμός πίνακα συνδιασποράς -> Σ =  1 / (n-1) *  (Sum(i: 1 to #dimensions) Xi * Xi.T) , όπου Xi το i-οστό δείγμα,το μ=0 αφου το αφαιρέσαμε πριν επομένως για αυτό δεν υπάρχει στον παραπάνω τύπο.\n",
    "\n",
    "ΒΗΜΑ 4 : υπολογισμός και ταξινόμηση(desc) ιδιοτιμών και ιδιοδιανυσμάτων με τη χρήση του πίνακα συνδιασποράς Σ.\n",
    "\n",
    "BHMA 5 : επιλογή των ιδιοτιμών που θέλουμε και δημιουργία του feature vector(new vector στο πρόγραμμα μας).\n",
    "\n",
    "ΒΗΜΑ 6 : δημιουργία των τελικών δεδομένων τα οποία έχουν συμπιεστεί σε p(<d) διαστάσεις. Aυτό γίνεται με τον             εξής τρόπο. \n",
    "\n",
    "                                     final_data = feature_vectors.dot(data_normal.T).Τ\n",
    "                           \n",
    " όπου feature_vectors είναι τα ιδιοδιανύσματα που διαλέξαμε με τις υψηλότερες ιδιοτιμές , data_normal τα δεδομένα μας, έχοντας αφαιρέσει το μέσο από κάθε διάσταση.\n",
    "                                   "
   ]
  },
  {
   "cell_type": "markdown",
   "metadata": {},
   "source": [
    "### Τι υποδηλώνουν οι θετικές και οι αρνητικές τιμές του πίνακα συνδιασποράς?\n",
    "\n",
    "Οι αρνητικές τιμές στον πίνακα συνδιασποράς δηλώνουν πως όταν η μια τιμή αυξάνει η άλλη μειώνεται δηλαδή υπάρχει αρνητική συσχέτιση. Ενώ, οι θετικές τιμές δηλώνουν το αντίθετο δηλαδή θετική συσχέτιση των 2 χαρακτηριστικών.\n",
    "\n",
    "### Τι παρατηρούμε για τις ιδιοτιμές που διαλέξαμε σε σχέση με τις άλλες?\n",
    "\n",
    "Παρατηρούμε πως οι ιδιοτιμές που διαλέξαμε έχουν πολύ υψηλή τιμή σε σχέση με τις άλλες και εξηγούν ένα πολύ μεγάλο ποσοστό του αρχικού variance.\n",
    "\n",
    "### Πόσες κύριες συνιστώσες επιλέγει να διατηρήσει ο αλγόριθμος?\n",
    "\n",
    "**ΞΕΧΑΣΑ ΝΑ ΠΩ**: ο αλγόριθμος που έχετε φτιάξει κρατάει 3 κύριες συνιστώσες , το βλέπουμε από τον κώδικα.\n",
    "\n",
    "Ο αλγόριθμος μπορεί να διατηρήσει μέχρι και d συνιστώσες ή στη δική μας περίπτωση 13 όσες τα χαρακτηριστικά , αλλά συνήθως διαλέγουμε κάτι που να εξηγεί 90 ή 95 % ποσοστό του variance των αρχικών δεδομένων."
   ]
  },
  {
   "cell_type": "markdown",
   "metadata": {
    "colab_type": "text",
    "id": "DBRxVL9BmqGw"
   },
   "source": [
    "<h3><b><i>Logistic Regression</i></b></h3>\n",
    "\n",
    "<p>Αρχικά, θα φορτώσετε τις απαραίτητες βιβλιοθήκες.</p>"
   ]
  },
  {
   "cell_type": "code",
   "execution_count": 54,
   "metadata": {
    "colab": {
     "base_uri": "https://localhost:8080/",
     "height": 394
    },
    "colab_type": "code",
    "id": "MiGjiOEQnpwn",
    "outputId": "816c0f5e-49cd-45db-beb2-1725ed25fbd5"
   },
   "outputs": [],
   "source": [
    "import pandas as pd\n",
    "import numpy as np\n",
    "import matplotlib.pyplot as plt\n",
    "from sklearn.model_selection import train_test_split\n",
    "from sklearn.decomposition import PCA\n",
    "from sklearn.preprocessing import StandardScaler\n",
    "from sklearn.linear_model.logistic import LogisticRegression"
   ]
  },
  {
   "cell_type": "markdown",
   "metadata": {
    "colab_type": "text",
    "id": "JnNo_v4Jn3gn"
   },
   "source": [
    "Στη συνέχεια, θα φορτώσετε τα datasets που θα χρησιμοποιηθούν για την εκπαίδευση του μοντέλου <b><i>logistic regression</i></b>. Στην πρώτη περίπτωση, θα εκπαιδεύσετε το μοντέλο, χρησιμοποιώντας το αρχείο <i><a href=\"https://raw.githubusercontent.com/nkostopoulos/StochasticsLabPublic/master/2020/lab2/demo3a.csv\">demo3a.csv</a></i>. Στη δεύτερη περίπτωση, θα φορτώσετε το αρχείο <i>foo.csv</i> που πήρατε ως έξοδο από το προηγούμενο τμήμα κώδικα της άσκησης (<i>Ανάλυση σε Κύριες Συνιστώσες</i>), προσθέτοντας στην πρώτη στήλη του αρχείου τα labels που υπάρχουν στην πρώτη στήλη του αρχείου <a href=\"https://raw.githubusercontent.com/nkostopoulos/StochasticsLabPublic/master/2020/lab2/demo3a.csv\"><i>demo3a.csv</i></a>."
   ]
  },
  {
   "cell_type": "code",
   "execution_count": 73,
   "metadata": {
    "colab": {},
    "colab_type": "code",
    "id": "7cJDDmjxpSTT"
   },
   "outputs": [],
   "source": [
    "df = pd.read_csv(\"https://raw.githubusercontent.com/nkostopoulos/StochasticsLabPublic/master/2020/lab2/demo3a.csv\")\n",
    "#df = pd.read_csv(\"foo.csv\")"
   ]
  },
  {
   "cell_type": "markdown",
   "metadata": {
    "colab_type": "text",
    "id": "nyQn9Hjapdjj"
   },
   "source": [
    "<p>Έπειτα, θα χωρίσετε το dataset σε <i>training</i> και <i>test set</i>.</p>"
   ]
  },
  {
   "cell_type": "code",
   "execution_count": 74,
   "metadata": {
    "colab": {},
    "colab_type": "code",
    "id": "NuWbSbVwpWUe"
   },
   "outputs": [],
   "source": [
    "# Separate the input features from the target variable\n",
    "x = df.iloc[:,1:13].values\n",
    "y = df.iloc[:,0].values\n",
    "\n",
    "# Split the dataset into train and test set\n",
    "Xtrain,Xtest,Ytrain,Ytest = train_test_split(x,y, test_size = 0.2)"
   ]
  },
  {
   "cell_type": "markdown",
   "metadata": {
    "colab_type": "text",
    "id": "HFvPctcepyai"
   },
   "source": [
    "<p>Έπειτα, θα εκπαιδεύσετε το μοντέλο <b><i>Logistic Regression</i></b></p>"
   ]
  },
  {
   "cell_type": "code",
   "execution_count": 75,
   "metadata": {
    "colab": {
     "base_uri": "https://localhost:8080/",
     "height": 102
    },
    "colab_type": "code",
    "id": "cDquqsFOpuUl",
    "outputId": "299caf32-19da-4474-cac3-471a90969ea3"
   },
   "outputs": [
    {
     "data": {
      "text/plain": [
       "LogisticRegression(C=1.0, class_weight=None, dual=False, fit_intercept=True,\n",
       "                   intercept_scaling=1, l1_ratio=None, max_iter=1000,\n",
       "                   multi_class='warn', n_jobs=None, penalty='l2',\n",
       "                   random_state=None, solver='lbfgs', tol=0.0001, verbose=0,\n",
       "                   warm_start=False)"
      ]
     },
     "execution_count": 75,
     "metadata": {},
     "output_type": "execute_result"
    }
   ],
   "source": [
    "classifier = LogisticRegression(max_iter = 1000,solver='lbfgs')\n",
    "classifier.fit(Xtrain,Ytrain)"
   ]
  },
  {
   "cell_type": "markdown",
   "metadata": {
    "colab_type": "text",
    "id": "ZGx2iFUlqC4w"
   },
   "source": [
    "<p>Τέλος, θα λάβετε τις προβλέψεις του μοντέλου που εκπαιδεύσατε πάνω στο test set και θα υπολογίσετε τα συνολικά λάθη.</p>"
   ]
  },
  {
   "cell_type": "code",
   "execution_count": 76,
   "metadata": {
    "colab": {
     "base_uri": "https://localhost:8080/",
     "height": 51
    },
    "colab_type": "code",
    "id": "opOmr-vCqOKL",
    "outputId": "4212dd79-96cc-417c-d703-81228dbd6623"
   },
   "outputs": [
    {
     "name": "stdout",
     "output_type": "stream",
     "text": [
      "Total errors on the test dataset\n",
      "0\n"
     ]
    }
   ],
   "source": [
    "# Get the predictions on the test set\n",
    "prediction = classifier.predict(Xtest)\n",
    "\n",
    "# Calculate the total number of errors on the test set\n",
    "errors = 0\n",
    "for index in range(0,len(prediction) - 1):\n",
    "    if prediction[index] != Ytest[index]:\n",
    "        errors += 1\n",
    "\n",
    "print(\"Total errors on the test dataset\")\n",
    "print(errors)"
   ]
  },
  {
   "cell_type": "markdown",
   "metadata": {
    "colab_type": "text",
    "id": "xRVRieelqVsA"
   },
   "source": [
    "<h4><b><i>Ερώτηση</i></b></h4>\n",
    "<p>Να εκτελέσετε παραπάνω τμήματα κώδικα με είσοδο τα αρχεία (a) <i><a href=\"https://raw.githubusercontent.com/nkostopoulos/StochasticsLabPublic/master/2020/lab2/demo3a.csv\">demo3a.csv</a></i> και (b) <i>foo.csv</i>. Τι παρατηρείτε για την ακρίβεια του μοντέλου στις δύο περιπτώσεις; Δοκιμάστε και για την περίπτωση που κρατάμε (α) 1 και (β) 2 <i>κύριες συνιστώσες</i>. Τι παρατηρείτε;</p>"
   ]
  },
  {
   "cell_type": "markdown",
   "metadata": {},
   "source": [
    "### foo.csv using PCA..."
   ]
  },
  {
   "cell_type": "markdown",
   "metadata": {},
   "source": [
    "#### 3 pca"
   ]
  },
  {
   "cell_type": "code",
   "execution_count": 82,
   "metadata": {},
   "outputs": [
    {
     "name": "stdout",
     "output_type": "stream",
     "text": [
      "Total errors on the test dataset\n",
      "1\n"
     ]
    }
   ],
   "source": [
    "df2 = pd.read_csv(\"foo.csv\")\n",
    "# Separate the input features from the target variable\n",
    "x = df2.iloc[:,:].values\n",
    "y = df.iloc[:,0].values\n",
    "\n",
    "# Split the dataset into train and test set\n",
    "Xtrain,Xtest,Ytrain,Ytest = train_test_split(x,y, test_size = 0.2)\n",
    "\n",
    "classifier3 = LogisticRegression(max_iter = 1000,solver='lbfgs')\n",
    "classifier3.fit(Xtrain,Ytrain)\n",
    "\n",
    "# Get the predictions on the test set\n",
    "prediction = classifier3.predict(Xtest)\n",
    "\n",
    "# Calculate the total number of errors on the test set\n",
    "errors = 0\n",
    "for index in range(0,len(prediction) - 1):\n",
    "    if prediction[index] != Ytest[index]:\n",
    "        errors += 1\n",
    "\n",
    "print(\"Total errors on the test dataset\")\n",
    "print(errors)\n"
   ]
  },
  {
   "cell_type": "markdown",
   "metadata": {},
   "source": [
    "#### 2 pca"
   ]
  },
  {
   "cell_type": "code",
   "execution_count": 83,
   "metadata": {},
   "outputs": [
    {
     "name": "stdout",
     "output_type": "stream",
     "text": [
      "Total errors on the test dataset\n",
      "4\n"
     ]
    }
   ],
   "source": [
    "df2 = pd.read_csv(\"foo.csv\")\n",
    "# Separate the input features from the target variable\n",
    "x = df2.iloc[:,[0,1]].values\n",
    "y = df.iloc[:,0].values\n",
    "\n",
    "# Split the dataset into train and test set\n",
    "Xtrain,Xtest,Ytrain,Ytest = train_test_split(x,y, test_size = 0.2)\n",
    "\n",
    "classifier2 = LogisticRegression(max_iter = 1000,solver='lbfgs')\n",
    "classifier2.fit(Xtrain,Ytrain)\n",
    "\n",
    "# Get the predictions on the test set\n",
    "prediction = classifier2.predict(Xtest)\n",
    "\n",
    "# Calculate the total number of errors on the test set\n",
    "errors = 0\n",
    "for index in range(0,len(prediction) - 1):\n",
    "    if prediction[index] != Ytest[index]:\n",
    "        errors += 1\n",
    "\n",
    "print(\"Total errors on the test dataset\")\n",
    "print(errors)\n"
   ]
  },
  {
   "cell_type": "markdown",
   "metadata": {},
   "source": [
    "### 1 pca"
   ]
  },
  {
   "cell_type": "code",
   "execution_count": 79,
   "metadata": {},
   "outputs": [
    {
     "name": "stdout",
     "output_type": "stream",
     "text": [
      "Total errors on the test dataset\n",
      "12\n"
     ]
    }
   ],
   "source": [
    "df2 = pd.read_csv(\"foo.csv\")\n",
    "# Separate the input features from the target variable\n",
    "x = df2.iloc[:,0].values\n",
    "y = df.iloc[:,0].values\n",
    "\n",
    "# Split the dataset into train and test set\n",
    "Xtrain,Xtest,Ytrain,Ytest = train_test_split(x,y, test_size = 0.2)\n",
    "\n",
    "classifier1 = LogisticRegression(max_iter = 1000,solver='lbfgs')\n",
    "classifier1.fit(Xtrain.reshape(-1, 1),Ytrain)\n",
    "\n",
    "# Get the predictions on the test set\n",
    "prediction = classifier1.predict(Xtest.reshape(-1, 1))\n",
    "\n",
    "# Calculate the total number of errors on the test set\n",
    "errors = 0\n",
    "for index in range(0,len(prediction) - 1):\n",
    "    if prediction[index] != Ytest[index]:\n",
    "        errors += 1\n",
    "\n",
    "print(\"Total errors on the test dataset\")\n",
    "print(errors)\n"
   ]
  },
  {
   "cell_type": "markdown",
   "metadata": {},
   "source": [
    "Όπως βλέπουμε όσο μειώνουμε τα principal components και τις διαστάσεις το μοντέλο αποδίδει χειρότερα αλλά ταχύτερα."
   ]
  },
  {
   "cell_type": "markdown",
   "metadata": {
    "colab_type": "text",
    "id": "gqPhHDExffku"
   },
   "source": [
    "<h3><b><i>Συμπληρωματικές Ερωτήσεις</i></b></h3>\n",
    "\n",
    "<li>Ποια είναι η χρησιμότητα του αλγορίθμου <b><i>PCA</i></b> ως προς τη δυνατότητα <i>οπτικοποίησης</i> (<i>visualization</i>) των δεδομένων του dataset;</li>\n",
    "    \n",
    "   Το PCA είναι μια τεχνική dimensionality reduction , η οποία κατά τον τρόπο που αναφέραμε πιο πάνω συμπιέζει τα δεδομένα σε μικρότερη διάσταση διατηρώντας όσο μπορεί το αρχικό variance των δεδομένων. Επομένως, μπορούμε να μειώσουμε τις διαστάσεις σε 3 είτε 2 είτε 1 και να κάνουμε ένα διάγραμμα διασποράς για να δούμε οπτικά τα δεδομένα μας καθώς σε παραπάνω απο 3 διαστάσεις δε μπορούμε να οπτικοποιήσουμε τα δεδομένα μας. Συνεπώς, μπορούμε να παρατηρήσουμε γραφικά διάφορα patterns ή αν είναι γραμμικά διαχωρίσιμα τα δεδομένα ή οτιδήποτε."
   ]
  },
  {
   "cell_type": "markdown",
   "metadata": {},
   "source": [
    "<li>Ποια είναι η χρησιμότητα του αλγορίθμου <b><i>PCA</i></b> ως προς την ταχύτητα εκπαίδευσης του μοντέλου logistic regression; Να βασίσετε την απάντησή σας στα δύο παραπάνω τμήματα κώδικα.</li>\n",
    "\n",
    "Παρατηρούμε πως αν δε κάνουμε pca και υλοποιήσουμε το logistic regression όπως είναι στα δεδομένα μας, η εκπαίδευση αργεί να γίνει και είναι λογικό αφου η λογιστική παλινδρόμηση δουλεύει καλύτερα σε μικρό αριθμό χαρακτηριστικών. Aν σκεφτούμε πως έχουμε μόνο 129 δείγματα και αργεί τόσο εμφανέστατα, αν είχαμε ένα μεγαλύτερο dataset και με παραπάνω χαρακτηριστικά τότε η συμβολή του PCA στην εκπαίδευση είναι πάρα πολύ σημαντική.\n"
   ]
  }
 ],
 "metadata": {
  "colab": {
   "name": "Stochastic Processes & Optimization in Machine Learning: Principal Component Analysis (Lab 2)",
   "provenance": []
  },
  "kernelspec": {
   "display_name": "Python 3",
   "language": "python",
   "name": "python3"
  },
  "language_info": {
   "codemirror_mode": {
    "name": "ipython",
    "version": 3
   },
   "file_extension": ".py",
   "mimetype": "text/x-python",
   "name": "python",
   "nbconvert_exporter": "python",
   "pygments_lexer": "ipython3",
   "version": "3.7.3"
  }
 },
 "nbformat": 4,
 "nbformat_minor": 1
}
